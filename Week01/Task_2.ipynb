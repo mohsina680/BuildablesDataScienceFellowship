{
  "nbformat": 4,
  "nbformat_minor": 0,
  "metadata": {
    "colab": {
      "provenance": [],
      "authorship_tag": "ABX9TyNwvuJJlQGlgo0WOzSl7CUl",
      "include_colab_link": true
    },
    "kernelspec": {
      "name": "python3",
      "display_name": "Python 3"
    },
    "language_info": {
      "name": "python"
    }
  },
  "cells": [
    {
      "cell_type": "markdown",
      "metadata": {
        "id": "view-in-github",
        "colab_type": "text"
      },
      "source": [
        "<a href=\"https://colab.research.google.com/github/mohsina680/BuildablesDataScienceFellowship/blob/main/Task_2.ipynb\" target=\"_parent\"><img src=\"https://colab.research.google.com/assets/colab-badge.svg\" alt=\"Open In Colab\"/></a>"
      ]
    },
    {
      "cell_type": "markdown",
      "source": [
        "Question 01: Palindrome Checker (Word),\n",
        "Check if a given word is a palindrome."
      ],
      "metadata": {
        "id": "ldhP0jBvMYjc"
      }
    },
    {
      "cell_type": "code",
      "execution_count": 6,
      "metadata": {
        "colab": {
          "base_uri": "https://localhost:8080/"
        },
        "id": "Zi0eF9ZmLzLr",
        "outputId": "7f248f15-dff9-4df4-ad11-7ddd5e7291ad"
      },
      "outputs": [
        {
          "output_type": "stream",
          "name": "stdout",
          "text": [
            "Enter a Word: racecar\n",
            "racecar is a Palindrome\n",
            "Enter a Word: Python\n",
            "Python is not a Palindrome\n"
          ]
        }
      ],
      "source": [
        "# check the word is palindrome or not\n",
        "for i in range (2):\n",
        "    Word = input(\"Enter a Word: \")\n",
        "    if Word == Word[::-1]:\n",
        "      print(f\"{Word} is a Palindrome\")\n",
        "    else:\n",
        "      print(f\"{Word} is not a Palindrome\")"
      ]
    },
    {
      "cell_type": "markdown",
      "source": [
        "Question no 2: FizzBuzz,\n",
        "Print numbers from 1 to 100 with rules:"
      ],
      "metadata": {
        "id": "zJDNVjqCPCvj"
      }
    },
    {
      "cell_type": "code",
      "source": [
        "for i in range(1, 101):\n",
        "  #check both 3 and 5\n",
        "    if i % 3 == 0 and i % 5 == 0:\n",
        "        print(\"FizzBuzz\")\n",
        "        #check multipile of 3\n",
        "    elif i % 3 == 0:\n",
        "        print(\"Fizz\")\n",
        "        #check multiple of 5\n",
        "    elif i % 5 == 0:\n",
        "        print(\"Buzz\")\n",
        "    else:\n",
        "        print(i)\n"
      ],
      "metadata": {
        "colab": {
          "base_uri": "https://localhost:8080/"
        },
        "id": "ci7zaCnoNcOw",
        "outputId": "fc7d830d-bd85-41c6-ace5-541a8594b800"
      },
      "execution_count": 13,
      "outputs": [
        {
          "output_type": "stream",
          "name": "stdout",
          "text": [
            "1\n",
            "2\n",
            "Fizz\n",
            "4\n",
            "Buzz\n",
            "Fizz\n",
            "7\n",
            "8\n",
            "Fizz\n",
            "Buzz\n",
            "11\n",
            "Fizz\n",
            "13\n",
            "14\n",
            "FizzBuzz\n",
            "16\n",
            "17\n",
            "Fizz\n",
            "19\n",
            "Buzz\n",
            "Fizz\n",
            "22\n",
            "23\n",
            "Fizz\n",
            "Buzz\n",
            "26\n",
            "Fizz\n",
            "28\n",
            "29\n",
            "FizzBuzz\n",
            "31\n",
            "32\n",
            "Fizz\n",
            "34\n",
            "Buzz\n",
            "Fizz\n",
            "37\n",
            "38\n",
            "Fizz\n",
            "Buzz\n",
            "41\n",
            "Fizz\n",
            "43\n",
            "44\n",
            "FizzBuzz\n",
            "46\n",
            "47\n",
            "Fizz\n",
            "49\n",
            "Buzz\n",
            "Fizz\n",
            "52\n",
            "53\n",
            "Fizz\n",
            "Buzz\n",
            "56\n",
            "Fizz\n",
            "58\n",
            "59\n",
            "FizzBuzz\n",
            "61\n",
            "62\n",
            "Fizz\n",
            "64\n",
            "Buzz\n",
            "Fizz\n",
            "67\n",
            "68\n",
            "Fizz\n",
            "Buzz\n",
            "71\n",
            "Fizz\n",
            "73\n",
            "74\n",
            "FizzBuzz\n",
            "76\n",
            "77\n",
            "Fizz\n",
            "79\n",
            "Buzz\n",
            "Fizz\n",
            "82\n",
            "83\n",
            "Fizz\n",
            "Buzz\n",
            "86\n",
            "Fizz\n",
            "88\n",
            "89\n",
            "FizzBuzz\n",
            "91\n",
            "92\n",
            "Fizz\n",
            "94\n",
            "Buzz\n",
            "Fizz\n",
            "97\n",
            "98\n",
            "Fizz\n",
            "Buzz\n"
          ]
        }
      ]
    },
    {
      "cell_type": "markdown",
      "source": [
        "Question no 3: Nth Fibonacci Number,\n",
        "Find the nth Fibonacci number.\n"
      ],
      "metadata": {
        "id": "okMxCXb7UwEZ"
      }
    },
    {
      "cell_type": "code",
      "source": [
        "def fibonacci(n):\n",
        "    a, b = 0, 1\n",
        "    for i in range(n):\n",
        "        a, b = b, a + b\n",
        "    return a\n",
        "#nth fibonacci number\n",
        "n = int(input(\"Enter n: \"))\n",
        "print(\"Fibonacci number at position\", n, \"is:\", fibonacci(n))\n"
      ],
      "metadata": {
        "colab": {
          "base_uri": "https://localhost:8080/"
        },
        "id": "4Pq6InxfPmeL",
        "outputId": "881c6139-1b1c-4490-c914-6d127b1e8f3b"
      },
      "execution_count": 15,
      "outputs": [
        {
          "output_type": "stream",
          "name": "stdout",
          "text": [
            "Enter n: 10\n",
            "Fibonacci number at position 10 is: 55\n"
          ]
        }
      ]
    },
    {
      "cell_type": "markdown",
      "source": [
        "\n",
        "Question no 4: Prime Number Checker,\n",
        "Check if a given number is prime."
      ],
      "metadata": {
        "id": "YmcwFhaEV5Xa"
      }
    },
    {
      "cell_type": "code",
      "source": [
        "for i in range (2):\n",
        "  #check the number is prime or not\n",
        " c = int(input(\"Enter a number: \"))\n",
        " if c % 2 == 0:\n",
        "    print(f\"{c} is not a prime number\")\n",
        " else:\n",
        "    print(f\"{c} is a prime number\")"
      ],
      "metadata": {
        "colab": {
          "base_uri": "https://localhost:8080/"
        },
        "id": "hdoSBOGZVRM3",
        "outputId": "2671a589-b8c4-443d-f768-a79e919ebdad"
      },
      "execution_count": 3,
      "outputs": [
        {
          "output_type": "stream",
          "name": "stdout",
          "text": [
            "Enter a number: 3\n",
            "3 is a prime number\n",
            "Enter a number: 4\n",
            "4 is not a prime number\n"
          ]
        }
      ]
    },
    {
      "cell_type": "markdown",
      "source": [
        "Question no 5: Guess the Number Game,\n",
        "Computer generates a random number; user guesses until correct.\n"
      ],
      "metadata": {
        "id": "ze545fjXaw61"
      }
    },
    {
      "cell_type": "code",
      "source": [
        "import random\n",
        "\n",
        "#Step 1: Computer generates random number between 1 and 100\n",
        "secret_number = random.randint(1, 100)\n",
        "\n",
        "print(\"Guess the Number Game!\")\n",
        "print(\"I'm thinking of a number between 1 and 100...\")\n",
        "\n",
        "# Loop until correct guess\n",
        "while True:\n",
        "    guess = int(input(\"Enter your guess: \"))\n",
        "\n",
        "    if guess < secret_number:\n",
        "        print(\"Too low! Try again.\")\n",
        "    elif guess > secret_number:\n",
        "        print(\"Too high! Try again.\")\n",
        "    else:\n",
        "        print(\"🎉 Congratulations! You guessed the number:\", secret_number)\n",
        "        break\n"
      ],
      "metadata": {
        "colab": {
          "base_uri": "https://localhost:8080/"
        },
        "id": "331GziKCWX4D",
        "outputId": "f08322a1-52bd-4283-b77a-2ac079be226d"
      },
      "execution_count": 24,
      "outputs": [
        {
          "output_type": "stream",
          "name": "stdout",
          "text": [
            "Guess the Number Game!\n",
            "I'm thinking of a number between 1 and 100...\n",
            "Enter your guess: 32\n",
            "Too low! Try again.\n",
            "Enter your guess: 34\n",
            "Too low! Try again.\n",
            "Enter your guess: 27\n",
            "Too low! Try again.\n",
            "Enter your guess: 29\n",
            "Too low! Try again.\n",
            "Enter your guess: 36\n",
            "Too low! Try again.\n",
            "Enter your guess: 47\n",
            "Too low! Try again.\n",
            "Enter your guess: 58\n",
            "Too low! Try again.\n",
            "Enter your guess: 57\n",
            "Too low! Try again.\n",
            "Enter your guess: 68\n",
            "Too low! Try again.\n",
            "Enter your guess: 89\n",
            "Too low! Try again.\n",
            "Enter your guess: 98\n",
            "Too high! Try again.\n",
            "Enter your guess: 90\n",
            "Too low! Try again.\n",
            "Enter your guess: 93\n",
            "Too high! Try again.\n",
            "Enter your guess: 92\n",
            "Too high! Try again.\n",
            "Enter your guess: 91\n",
            "🎉 Congratulations! You guessed the number: 91\n"
          ]
        }
      ]
    },
    {
      "cell_type": "markdown",
      "source": [
        "Question no 6: List Comprehension,\n",
        "Create a list of squares of the first 10 integers.\n",
        "\n"
      ],
      "metadata": {
        "id": "8rBklJEedxFt"
      }
    },
    {
      "cell_type": "code",
      "source": [
        "lst = int(input(\"Enter a number: \"))\n",
        "#Creating list of square number\n",
        "squares = [i**2 for i in range(1, lst+1)]\n",
        "print(squares)"
      ],
      "metadata": {
        "colab": {
          "base_uri": "https://localhost:8080/"
        },
        "id": "9lkcUe9adHnM",
        "outputId": "05e3ea60-35f5-47b3-c1e0-b792104e1cc9"
      },
      "execution_count": 2,
      "outputs": [
        {
          "output_type": "stream",
          "name": "stdout",
          "text": [
            "Enter a number: 23\n",
            "[1, 4, 9, 16, 25, 36, 49, 64, 81, 100, 121, 144, 169, 196, 225, 256, 289, 324, 361, 400, 441, 484, 529]\n"
          ]
        }
      ]
    },
    {
      "cell_type": "markdown",
      "source": [
        "7. Palindrome Sentences,\n",
        "Check if a sentence is a palindrome (ignoring spaces and punctuation)."
      ],
      "metadata": {
        "id": "uNU33mf1ej1y"
      }
    },
    {
      "cell_type": "code",
      "source": [
        "import re  # regex helps clean text\n",
        "\n",
        "def is_palindrome(sentence):\n",
        "    # Step 1: remove non-alphanumeric characters (punctuation, spaces)\n",
        "    cleaned = re.sub(r'[^A-Za-z0-9]', '', sentence).lower()\n",
        "\n",
        "    # Step 2: check palindrome\n",
        "    return cleaned == cleaned[::-1]\n",
        "\n",
        "# Test cases\n",
        "text1 = input(\"Enter the text: \")\n",
        "text2 = input(\"Enter the text: \")\n",
        "if is_palindrome(text1):\n",
        "    print(f'\"{text1}\" is a palindrome.')\n",
        "else:\n",
        "    print(f'\"{text1}\" is not a palindrome.')\n",
        "\n",
        "if is_palindrome(text2):\n",
        "    print(f'\"{text2}\" is a palindrome.')\n",
        "else:\n",
        "    print(f'\"{text2}\" is not a palindrome.')\n",
        "\n"
      ],
      "metadata": {
        "colab": {
          "base_uri": "https://localhost:8080/"
        },
        "id": "QCDrKdyOeVoX",
        "outputId": "9d748079-4d15-4ce0-ba59-a25bd2846105"
      },
      "execution_count": 30,
      "outputs": [
        {
          "output_type": "stream",
          "name": "stdout",
          "text": [
            "Enter the text: A man, a plan, a canal: Panama\n",
            "Enter the text: hello world\n",
            "\"A man, a plan, a canal: Panama\" is a palindrome.\n",
            "\"hello world\" is not a palindrome.\n"
          ]
        }
      ]
    },
    {
      "cell_type": "markdown",
      "source": [
        "Question no 08: Anagram Checker"
      ],
      "metadata": {
        "id": "5z8On8d2iExV"
      }
    },
    {
      "cell_type": "code",
      "source": [
        "def is_anagram(word1, word2):\n",
        "    # Convert to lowercase and sort\n",
        "    return sorted(word1.lower()) == sorted(word2.lower())\n",
        "\n",
        "# Test cases\n",
        "w1 = input(\"Enter first word: \")\n",
        "w2 = input(\"Enter second word: \")\n",
        "\n",
        "if is_anagram(w1, w2):\n",
        "    print(f'\"{w1}\" and \"{w2}\" are anagrams.')\n",
        "else:\n",
        "    print(f'\"{w1}\" and \"{w2}\" are not anagrams.')\n"
      ],
      "metadata": {
        "colab": {
          "base_uri": "https://localhost:8080/"
        },
        "id": "7HRf8Ej6gX5x",
        "outputId": "18052825-4c1b-4125-906a-acfc5cc4bb8a"
      },
      "execution_count": 35,
      "outputs": [
        {
          "output_type": "stream",
          "name": "stdout",
          "text": [
            "Enter first word: listen\n",
            "Enter second word: silent\n",
            "\"listen\" and \"silent\" are anagrams.\n"
          ]
        }
      ]
    },
    {
      "cell_type": "markdown",
      "source": [
        "Question 09: Reverse Words in a Sentence"
      ],
      "metadata": {
        "id": "vriXT4DwkkbF"
      }
    },
    {
      "cell_type": "code",
      "source": [
        "def reverse_words(sentence):\n",
        "    words = sentence.split()      # split by spaces\n",
        "    reversed_sentence = \" \".join(reversed(words))\n",
        "    return reversed_sentence\n",
        "\n",
        "text = \"The quick brown fox jumps over the lazy dog.\"\n",
        "print(reverse_words(text))\n"
      ],
      "metadata": {
        "colab": {
          "base_uri": "https://localhost:8080/"
        },
        "id": "XUGQLsg5i7Pn",
        "outputId": "3996253c-83b1-4fa0-e849-f1fd95a82e47"
      },
      "execution_count": 4,
      "outputs": [
        {
          "output_type": "stream",
          "name": "stdout",
          "text": [
            "dog. lazy the over jumps fox brown quick The\n"
          ]
        }
      ]
    },
    {
      "cell_type": "markdown",
      "source": [
        "Question 10: Temperature Converter"
      ],
      "metadata": {
        "id": "gsSz8TKk_xLC"
      }
    },
    {
      "cell_type": "code",
      "source": [
        "def temperature_converter(celsius):\n",
        "    fahrenheit = (celsius * 9/5) + 32\n",
        "    kelvin = celsius + 273.15\n",
        "    print(f\"{celsius}°C = {fahrenheit:.2f}°F = {kelvin:.2f}K\")\n",
        "\n",
        "temperature_converter(20)\n"
      ],
      "metadata": {
        "colab": {
          "base_uri": "https://localhost:8080/"
        },
        "id": "V1vkAsq2_xwC",
        "outputId": "fc0a115c-c21b-418d-fbc8-04b7b874399b"
      },
      "execution_count": 1,
      "outputs": [
        {
          "output_type": "stream",
          "name": "stdout",
          "text": [
            "20°C = 68.00°F = 293.15K\n"
          ]
        }
      ]
    },
    {
      "cell_type": "markdown",
      "source": [
        "Question 11: Custom Iterator"
      ],
      "metadata": {
        "id": "duxRvjYU_2B9"
      }
    },
    {
      "cell_type": "code",
      "source": [
        "def even_numbers(start, end):\n",
        "    return [num for num in range(start, end + 1) if num % 2 == 0]\n",
        "#like from `1, to 20\n",
        "for num in even_numbers(1, 20):\n",
        "    print(num, end=\" \")\n"
      ],
      "metadata": {
        "colab": {
          "base_uri": "https://localhost:8080/"
        },
        "id": "8YgZcYXV_2ec",
        "outputId": "20907729-ca8e-40ea-84f4-09d690ea5dc4"
      },
      "execution_count": 2,
      "outputs": [
        {
          "output_type": "stream",
          "name": "stdout",
          "text": [
            "2 4 6 8 10 12 14 16 18 20 "
          ]
        }
      ]
    },
    {
      "cell_type": "code",
      "source": [],
      "metadata": {
        "id": "ZdImFUTmC18D"
      },
      "execution_count": null,
      "outputs": []
    }
  ]
}
