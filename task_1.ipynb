{
  "nbformat": 4,
  "nbformat_minor": 0,
  "metadata": {
    "colab": {
      "provenance": [],
      "authorship_tag": "ABX9TyM+yoPpYwhgZe+LbbvqJ7Wb",
      "include_colab_link": true
    },
    "kernelspec": {
      "name": "python3",
      "display_name": "Python 3"
    },
    "language_info": {
      "name": "python"
    }
  },
  "cells": [
    {
      "cell_type": "markdown",
      "metadata": {
        "id": "view-in-github",
        "colab_type": "text"
      },
      "source": [
        "<a href=\"https://colab.research.google.com/github/mohsina680/BuildablesDataScienceFellowship/blob/main/task_1.ipynb\" target=\"_parent\"><img src=\"https://colab.research.google.com/assets/colab-badge.svg\" alt=\"Open In Colab\"/></a>"
      ]
    },
    {
      "cell_type": "markdown",
      "source": [
        "Q:1"
      ],
      "metadata": {
        "id": "8wjntLoB7B9b"
      }
    },
    {
      "cell_type": "code",
      "execution_count": 6,
      "metadata": {
        "colab": {
          "base_uri": "https://localhost:8080/"
        },
        "id": "k6cen57h6jwT",
        "outputId": "6a235f71-652d-4748-d919-4307ee3f38a6"
      },
      "outputs": [
        {
          "output_type": "stream",
          "name": "stdout",
          "text": [
            "Enter the 1st number: 3\n",
            "Enter the 2nd number: 4\n",
            "output  7.0\n"
          ]
        }
      ],
      "source": [
        "#Take the two inputs from user and give there sum\n",
        "\n",
        "No_1 = float(input(\"Enter the 1st number: \"))\n",
        "No_2 = float(input(\"Enter the 2nd number: \"))\n",
        "sum = No_1 + No_2\n",
        "print(\"output \", sum )"
      ]
    },
    {
      "cell_type": "markdown",
      "source": [
        "Q:2"
      ],
      "metadata": {
        "id": "Gux5WLM08yBl"
      }
    },
    {
      "cell_type": "code",
      "source": [
        "Radius = float(input(\"Enter the radius: \"))\n",
        "Area_of_Circle = float(3.14*Radius*Radius)\n",
        "print(\"output \", Area_of_Circle)\n"
      ],
      "metadata": {
        "colab": {
          "base_uri": "https://localhost:8080/"
        },
        "id": "bqYoBg2i86Ut",
        "outputId": "81a14f53-4c87-4810-c352-0dc29ba39e5c"
      },
      "execution_count": 10,
      "outputs": [
        {
          "output_type": "stream",
          "name": "stdout",
          "text": [
            "Enter the radius: 5\n",
            "output  78.5\n"
          ]
        }
      ]
    },
    {
      "cell_type": "markdown",
      "source": [
        "Q:3 Even/Odd"
      ],
      "metadata": {
        "id": "9Ke7EaVS-gZX"
      }
    },
    {
      "cell_type": "code",
      "source": [
        "number = int(input(\"enter the number: \"))\n",
        "if number%2 == 0:\n",
        "  print(number,\"number is even\")\n",
        "else:\n",
        "  print(number,\"number is odd\")"
      ],
      "metadata": {
        "colab": {
          "base_uri": "https://localhost:8080/"
        },
        "id": "awYd6bmh-gAn",
        "outputId": "c612323b-1ce5-4b0d-f8d2-240b10a52cbe"
      },
      "execution_count": 14,
      "outputs": [
        {
          "output_type": "stream",
          "name": "stdout",
          "text": [
            "enter the number: 7\n",
            "7 number is odd\n"
          ]
        }
      ]
    },
    {
      "cell_type": "markdown",
      "source": [
        "Q:4 Simple Calculator"
      ],
      "metadata": {
        "id": "4NwoiTKGATZ5"
      }
    },
    {
      "cell_type": "code",
      "source": [
        "num1 = input(\"enter the 1st number: \")\n",
        "num2 = input(\"enter the 2nd number: \")\n",
        "\n",
        "sum = float(num1) + float(num2)\n",
        "sub = float(num1) - float(num2)\n",
        "div = float(num1) / float(num2)\n",
        "if num2 == 0:\n",
        " print(\"Division by Zero is not possible\")\n",
        "\n",
        "mul = float(num1) * float(num2)\n",
        "\n",
        "print(\"Enter the Operation: +,-,/,*\")\n",
        "operation = input()\n",
        "\n",
        "if operation == '+':\n",
        "  print(\"The Result is: \",sum)\n",
        "elif operation == '-':\n",
        "  print(\"The Result is: \",sub)\n",
        "elif operation == '/':\n",
        "  print(\"The Result is: \",div)\n",
        "elif operation == '*':\n",
        "  print(\"The Result is: \",mul)\n",
        "else:\n",
        "  print(\"Invalid Operation\")"
      ],
      "metadata": {
        "colab": {
          "base_uri": "https://localhost:8080/"
        },
        "id": "TdwQtZuA-f-k",
        "outputId": "82fb74e0-c4a9-4410-b1e3-99cc1e04492b"
      },
      "execution_count": 16,
      "outputs": [
        {
          "output_type": "stream",
          "name": "stdout",
          "text": [
            "enter the 1st number: 10\n",
            "enter the 2nd number: 3\n",
            "Enter the Operation: +,-,/,*\n",
            "/\n",
            "The Result is:  3.3333333333333335\n"
          ]
        }
      ]
    },
    {
      "cell_type": "markdown",
      "source": [
        "Q5: Largest Number"
      ],
      "metadata": {
        "id": "U1mYNnctCkxy"
      }
    },
    {
      "cell_type": "code",
      "source": [
        "num_1= input(\"Enter first number: \")\n",
        "num_2= input(\"Enter second number: \")\n",
        "num_3= input(\"Enter third number: \")\n",
        "\n",
        "if num_1 >= num_2 and num_1 >= num_3:\n",
        "  largest = num_1\n",
        "  print(\"The largest number is: \",largest)\n",
        "elif num_2 >= num_1 and num_2 >= num_3:\n",
        "  largest = num_2\n",
        "  print(\"The largest number is: \",largest)\n",
        "else:\n",
        "  largest = num_3\n",
        "  print(\"The largest number is: \",largest)"
      ],
      "metadata": {
        "colab": {
          "base_uri": "https://localhost:8080/"
        },
        "id": "F1DC9BwUJe7t",
        "outputId": "9b9d3576-36b2-4520-ea34-1d555f70bb1a"
      },
      "execution_count": 18,
      "outputs": [
        {
          "output_type": "stream",
          "name": "stdout",
          "text": [
            "Enter first number: 23\n",
            "Enter second number: 26\n",
            "Enter third number: 18\n",
            "The largest number is:  26\n"
          ]
        }
      ]
    },
    {
      "cell_type": "markdown",
      "source": [
        "Q6: Reverse a String"
      ],
      "metadata": {
        "id": "N1iGc-3OLltM"
      }
    },
    {
      "cell_type": "code",
      "source": [
        "String = input(\"Enter the String: \")\n",
        "Reverse_String = String[::-1]\n",
        "print(\"The Reverse String is: \",Reverse_String)"
      ],
      "metadata": {
        "colab": {
          "base_uri": "https://localhost:8080/"
        },
        "id": "EYWGfNx-LrBc",
        "outputId": "0551fab6-672e-456f-9aa0-6c18eeb1b2bd"
      },
      "execution_count": 19,
      "outputs": [
        {
          "output_type": "stream",
          "name": "stdout",
          "text": [
            "Enter the String: hello\n",
            "The Reverse String is:  olleh\n"
          ]
        }
      ]
    },
    {
      "cell_type": "markdown",
      "source": [
        "Q7: Count vowels"
      ],
      "metadata": {
        "id": "hl3CJgw3MAeD"
      }
    },
    {
      "cell_type": "code",
      "source": [
        "String_1 = input(\"Enter the string: \")\n",
        "Vowels = \"aeiouAEIOU\"\n",
        "Vowels_count=0\n",
        "for char in String_1:\n",
        "    if char in Vowels:\n",
        "        Vowels_count += 1\n",
        "\n",
        "print(\"The number of vowels in the string is: \",Vowels_count)"
      ],
      "metadata": {
        "colab": {
          "base_uri": "https://localhost:8080/"
        },
        "id": "SKWaIjrLMJDz",
        "outputId": "35faa601-1ca5-4648-fc41-c5bd853a3cd8"
      },
      "execution_count": 36,
      "outputs": [
        {
          "output_type": "stream",
          "name": "stdout",
          "text": [
            "Enter the string: Ali\n",
            "The number of vowels in the string is:  2\n"
          ]
        }
      ]
    },
    {
      "cell_type": "markdown",
      "source": [
        "Q8: Fibonacci sequence"
      ],
      "metadata": {
        "id": "VBg9aWKMQ1aL"
      }
    },
    {
      "cell_type": "code",
      "source": [
        "n = int(input(\"How many terms? \"))\n",
        "\n",
        "a, b = 0, 1\n",
        "print(\"Fibonacci sequence:\")\n",
        "\n",
        "for i in range(n):\n",
        "    print(a, end=\" \")\n",
        "    a, b = b, a + b\n"
      ],
      "metadata": {
        "colab": {
          "base_uri": "https://localhost:8080/"
        },
        "id": "ISsg7z0PRZuB",
        "outputId": "784afdf8-3dc2-4d15-fa2c-35d03a2c2235"
      },
      "execution_count": 40,
      "outputs": [
        {
          "output_type": "stream",
          "name": "stdout",
          "text": [
            "How many terms? 5\n",
            "Fibonacci sequence:\n",
            "0 1 1 2 3 "
          ]
        }
      ]
    },
    {
      "cell_type": "markdown",
      "source": [
        "Q9: Check for Palindrome"
      ],
      "metadata": {
        "id": "oyt5BhmARhBR"
      }
    },
    {
      "cell_type": "code",
      "source": [
        "text = input(\"Enter a string: \")\n",
        "\n",
        "# Check if palindrome\n",
        "if text == text[::-1]:\n",
        "    print(text, \"is a palindrome\")\n",
        "else:\n",
        "    print(text, \"is not a palindrome\")\n"
      ],
      "metadata": {
        "colab": {
          "base_uri": "https://localhost:8080/"
        },
        "id": "gFLBrjilRv3x",
        "outputId": "88f59d7a-0e8b-4d68-e56b-413ca161a059"
      },
      "execution_count": 41,
      "outputs": [
        {
          "output_type": "stream",
          "name": "stdout",
          "text": [
            "Enter a string: radar\n",
            "radar is a palindrome\n"
          ]
        }
      ]
    }
  ]
}