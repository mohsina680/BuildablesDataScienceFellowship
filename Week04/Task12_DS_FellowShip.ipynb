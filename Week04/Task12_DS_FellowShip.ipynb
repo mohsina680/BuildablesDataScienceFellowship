{
  "nbformat": 4,
  "nbformat_minor": 0,
  "metadata": {
    "colab": {
      "provenance": [],
      "authorship_tag": "ABX9TyNf1FR+mLpKmyT8PUAw9NtK",
      "include_colab_link": true
    },
    "kernelspec": {
      "name": "python3",
      "display_name": "Python 3"
    },
    "language_info": {
      "name": "python"
    }
  },
  "cells": [
    {
      "cell_type": "markdown",
      "metadata": {
        "id": "view-in-github",
        "colab_type": "text"
      },
      "source": [
        "<a href=\"https://colab.research.google.com/github/mohsina680/BuildablesDataScienceFellowship/blob/main/Task12_DS_FellowShip.ipynb\" target=\"_parent\"><img src=\"https://colab.research.google.com/assets/colab-badge.svg\" alt=\"Open In Colab\"/></a>"
      ]
    },
    {
      "cell_type": "code",
      "source": [
        "# Task 12 - Classification Algorithms II\n",
        "\n",
        "# Dependencies\n",
        "import pandas as pd\n",
        "import numpy as np\n",
        "from sklearn.model_selection import train_test_split\n",
        "from sklearn.preprocessing import StandardScaler, LabelEncoder\n",
        "from sklearn.metrics import accuracy_score, confusion_matrix, classification_report\n",
        "from sklearn.metrics import accuracy_score, precision_score, recall_score, f1_score, roc_auc_score, confusion_matrix\n",
        "\n",
        "# Models\n",
        "from sklearn.linear_model import LogisticRegression\n",
        "from sklearn.tree import DecisionTreeClassifier\n",
        "from sklearn.ensemble import RandomForestClassifier\n",
        "from sklearn.neighbors import KNeighborsClassifier\n",
        "from sklearn.svm import SVC\n",
        "from sklearn.naive_bayes import MultinomialNB\n",
        "from sklearn.feature_extraction.text import TfidfVectorizer"
      ],
      "metadata": {
        "id": "Qvap89va4gHA"
      },
      "execution_count": 23,
      "outputs": []
    },
    {
      "cell_type": "code",
      "source": [
        "# 1. Employee Attrition - Logistic Regression\n",
        "\n",
        "hr = pd.read_csv(\"ibm-hr-analytics-attrition.csv\")\n",
        "hr = hr.fillna(hr.mean(numeric_only=True))\n",
        "\n",
        "for col in hr.select_dtypes(include=\"object\"):\n",
        "    hr[col] = LabelEncoder().fit_transform(hr[col])\n",
        "\n",
        "X = hr.drop(\"Attrition\", axis=1)\n",
        "y = hr[\"Attrition\"]\n",
        "\n",
        "X = StandardScaler().fit_transform(X)\n",
        "X_train, X_test, y_train, y_test = train_test_split(X, y, test_size=0.2, random_state=42)\n",
        "\n",
        "model = LogisticRegression()\n",
        "model.fit(X_train, y_train)\n",
        "y_pred = model.predict(X_test)\n",
        "\n",
        "print(\"Employee Attrition - Logistic Regression\")\n",
        "print(\"Precision:\", precision_score(y_test, y_pred))\n",
        "print(\"Recall:\", recall_score(y_test, y_pred))\n",
        "print(\"F1:\", f1_score(y_test, y_pred))"
      ],
      "metadata": {
        "colab": {
          "base_uri": "https://localhost:8080/"
        },
        "id": "N3VXBwma34cc",
        "outputId": "5f10fbad-adf0-4333-d63f-e0de999d6256"
      },
      "execution_count": 24,
      "outputs": [
        {
          "output_type": "stream",
          "name": "stdout",
          "text": [
            "Employee Attrition - Logistic Regression\n",
            "Precision: 0.6842105263157895\n",
            "Recall: 0.3333333333333333\n",
            "F1: 0.4482758620689655\n"
          ]
        }
      ]
    },
    {
      "cell_type": "code",
      "source": [
        "\n",
        "# 2. Heart Disease - KNN\n",
        "\n",
        "heart = pd.read_csv(\"heart.csv\")\n",
        "heart = heart.fillna(heart.mean(numeric_only=True))\n",
        "for col in heart.select_dtypes(include=\"object\"):\n",
        "    heart[col] = LabelEncoder().fit_transform(heart[col])\n",
        "\n",
        "X = heart.drop(\"target\", axis=1)\n",
        "y = heart[\"target\"]\n",
        "\n",
        "X = StandardScaler().fit_transform(X)\n",
        "X_train, X_test, y_train, y_test = train_test_split(X, y, test_size=0.2, random_state=42)\n",
        "\n",
        "model = KNeighborsClassifier()\n",
        "model.fit(X_train, y_train)\n",
        "y_pred = model.predict(X_test)\n",
        "\n",
        "print(\"Heart Disease - KNN\")\n",
        "print(\"Accuracy:\", accuracy_score(y_test, y_pred))\n",
        "print(\"ROC-AUC:\", roc_auc_score(y_test, y_pred))\n"
      ],
      "metadata": {
        "colab": {
          "base_uri": "https://localhost:8080/"
        },
        "id": "4EA2LOw83-xI",
        "outputId": "69528251-c3bd-459e-972b-1070df613963"
      },
      "execution_count": 25,
      "outputs": [
        {
          "output_type": "stream",
          "name": "stdout",
          "text": [
            "Heart Disease - KNN\n",
            "Accuracy: 0.8341463414634146\n",
            "ROC-AUC: 0.8338568437083572\n"
          ]
        }
      ]
    },
    {
      "cell_type": "code",
      "source": [
        "# 3. Hospital Readmission - Logistic Regression\n",
        "\n",
        "hosp = pd.read_csv(\"hospital_readmissions.csv\")\n",
        "for col in hosp.select_dtypes(include=\"object\"):\n",
        "    hosp[col] = hosp[col].fillna(hosp[col].mode()[0])\n",
        "    hosp[col] = LabelEncoder().fit_transform(hosp[col])\n",
        "\n",
        "X = hosp.drop(\"readmitted\", axis=1)\n",
        "y = hosp[\"readmitted\"]\n",
        "\n",
        "X = StandardScaler().fit_transform(X)\n",
        "X_train, X_test, y_train, y_test = train_test_split(X, y, test_size=0.2, random_state=42)\n",
        "\n",
        "model = LogisticRegression(max_iter=500)\n",
        "model.fit(X_train, y_train)\n",
        "y_pred = model.predict(X_test)\n",
        "\n",
        "print(\"Hospital Readmission - Logistic Regression\")\n",
        "print(\"Precision:\", precision_score(y_test, y_pred, average=\"macro\"))\n",
        "print(\"Recall:\", recall_score(y_test, y_pred, average=\"macro\"))\n",
        "print(\"F1:\", f1_score(y_test, y_pred, average=\"macro\"))\n",
        "\n"
      ],
      "metadata": {
        "colab": {
          "base_uri": "https://localhost:8080/"
        },
        "id": "RETML8rB4FDR",
        "outputId": "10847140-c152-4649-d170-faf13ec3d027"
      },
      "execution_count": 26,
      "outputs": [
        {
          "output_type": "stream",
          "name": "stdout",
          "text": [
            "Hospital Readmission - Logistic Regression\n",
            "Precision: 0.6146121547497694\n",
            "Recall: 0.5970995187818995\n",
            "F1: 0.5875319652172504\n"
          ]
        }
      ]
    },
    {
      "cell_type": "code",
      "source": [
        "# 4. Credit Card Fraud - Decision Tree\n",
        "\n",
        "fraud = pd.read_csv(\"creditcard.csv\")\n",
        "fraud = fraud.fillna(fraud.mean(numeric_only=True))\n",
        "\n",
        "X = fraud.drop(\"Class\", axis=1)\n",
        "y = fraud[\"Class\"]\n",
        "\n",
        "X = StandardScaler().fit_transform(X)\n",
        "X_train, X_test, y_train, y_test = train_test_split(X, y, test_size=0.2, random_state=42)\n",
        "\n",
        "model = DecisionTreeClassifier()\n",
        "model.fit(X_train, y_train)\n",
        "y_pred = model.predict(X_test)\n",
        "\n",
        "print(\"Credit Card Fraud - Decision Tree\")\n",
        "print(\"ROC-AUC:\", roc_auc_score(y_test, y_pred))\n",
        "print(\"Confusion Matrix:\\n\", confusion_matrix(y_test, y_pred))\n",
        "\n"
      ],
      "metadata": {
        "colab": {
          "base_uri": "https://localhost:8080/"
        },
        "id": "Puev8HIA4NqA",
        "outputId": "1a708b5f-3fc5-40b5-ee82-0ffc8ed21018"
      },
      "execution_count": 27,
      "outputs": [
        {
          "output_type": "stream",
          "name": "stdout",
          "text": [
            "Credit Card Fraud - Decision Tree\n",
            "ROC-AUC: 0.9079258567523802\n",
            "Confusion Matrix:\n",
            " [[56837    27]\n",
            " [   18    80]]\n"
          ]
        }
      ]
    },
    {
      "cell_type": "code",
      "source": [
        "# 5. Wine Quality - Decision Tree\n",
        "\n",
        "# Read with semicolon delimiter\n",
        "wine = pd.read_csv(\"winequality-red.csv\", sep=\";\")\n",
        "wine = wine.fillna(wine.mean(numeric_only=True))\n",
        "\n",
        "X = wine.drop(\"quality\", axis=1)\n",
        "y = wine[\"quality\"]\n",
        "\n",
        "X = StandardScaler().fit_transform(X)\n",
        "X_train, X_test, y_train, y_test = train_test_split(X, y, test_size=0.2, random_state=42)\n",
        "\n",
        "model = DecisionTreeClassifier(random_state=42)\n",
        "model.fit(X_train, y_train)\n",
        "y_pred = model.predict(X_test)\n",
        "\n",
        "print(\"Wine Quality - Decision Tree\")\n",
        "print(\"Accuracy:\", accuracy_score(y_test, y_pred))\n",
        "print(\"ROC-AUC:\", roc_auc_score(y_test, model.predict_proba(X_test), multi_class=\"ovr\"))\n",
        "\n"
      ],
      "metadata": {
        "colab": {
          "base_uri": "https://localhost:8080/"
        },
        "id": "7NNpTA9az0qL",
        "outputId": "522d6bee-4c8b-4f59-91dd-9f995b734000"
      },
      "execution_count": 28,
      "outputs": [
        {
          "output_type": "stream",
          "name": "stdout",
          "text": [
            "Wine Quality - Decision Tree\n",
            "Accuracy: 0.5625\n",
            "ROC-AUC: 0.5937578399776532\n"
          ]
        }
      ]
    },
    {
      "cell_type": "code",
      "source": [
        "# 6. SMS Spam - Naive Bayes\n",
        "\n",
        "\n",
        "sms = pd.read_csv(\"spam.csv\", encoding=\"latin-1\")\n",
        "sms = sms.rename(columns={sms.columns[0]: \"label\", sms.columns[1]: \"message\"})\n",
        "sms = sms[[\"label\", \"message\"]]\n",
        "\n",
        "sms[\"label\"] = LabelEncoder().fit_transform(sms[\"label\"])\n",
        "\n",
        "X = sms[\"message\"]\n",
        "y = sms[\"label\"]\n",
        "\n",
        "vectorizer = TfidfVectorizer()\n",
        "X = vectorizer.fit_transform(X)\n",
        "\n",
        "X_train, X_test, y_train, y_test = train_test_split(X, y, test_size=0.2, random_state=42)\n",
        "\n",
        "model = MultinomialNB()\n",
        "model.fit(X_train, y_train)\n",
        "y_pred = model.predict(X_test)\n",
        "\n",
        "print(\"SMS Spam - Naive Bayes\")\n",
        "print(\"Precision:\", precision_score(y_test, y_pred))\n",
        "print(\"Recall:\", recall_score(y_test, y_pred))\n",
        "print(\"F1:\", f1_score(y_test, y_pred))\n",
        "print(\"ROC-AUC:\", roc_auc_score(y_test, y_pred))"
      ],
      "metadata": {
        "colab": {
          "base_uri": "https://localhost:8080/"
        },
        "id": "KYV7SEMw1JDc",
        "outputId": "4c3d78de-1a40-4da2-c8d8-476f0c3c571f"
      },
      "execution_count": 29,
      "outputs": [
        {
          "output_type": "stream",
          "name": "stdout",
          "text": [
            "SMS Spam - Naive Bayes\n",
            "Precision: 1.0\n",
            "Recall: 0.72\n",
            "F1: 0.8372093023255814\n",
            "ROC-AUC: 0.86\n"
          ]
        }
      ]
    },
    {
      "cell_type": "code",
      "source": [
        "# 7. Diabetes - Random Forest\n",
        "\n",
        "\n",
        "diab = pd.read_csv(\"diabetes.csv\")\n",
        "diab = diab.fillna(diab.mean(numeric_only=True))\n",
        "\n",
        "X = diab.drop(\"Outcome\", axis=1)\n",
        "y = diab[\"Outcome\"]\n",
        "\n",
        "X = StandardScaler().fit_transform(X)\n",
        "X_train, X_test, y_train, y_test = train_test_split(X, y, test_size=0.2, random_state=42)\n",
        "\n",
        "model = RandomForestClassifier()\n",
        "model.fit(X_train, y_train)\n",
        "y_pred = model.predict(X_test)\n",
        "\n",
        "print(\"Diabetes - Random Forest\")\n",
        "print(\"Accuracy:\", accuracy_score(y_test, y_pred))\n",
        "print(\"ROC-AUC:\", roc_auc_score(y_test, y_pred))\n",
        "print(\"Feature Importances:\", model.feature_importances_)\n"
      ],
      "metadata": {
        "colab": {
          "base_uri": "https://localhost:8080/"
        },
        "id": "ZofhafCJ1Lcn",
        "outputId": "935a69c4-b5c0-41f1-bd98-a9a877b68ffd"
      },
      "execution_count": 30,
      "outputs": [
        {
          "output_type": "stream",
          "name": "stdout",
          "text": [
            "Diabetes - Random Forest\n",
            "Accuracy: 0.7337662337662337\n",
            "ROC-AUC: 0.7080808080808081\n",
            "Feature Importances: [0.08357648 0.25799424 0.08965987 0.06918187 0.07747954 0.15991547\n",
            " 0.12011654 0.142076  ]\n"
          ]
        }
      ]
    },
    {
      "cell_type": "code",
      "source": [
        "# 8. Iris - SVM (Kaggle version)\n",
        "\n",
        "iris = pd.read_csv(\"iris.csv\")\n",
        "iris = iris.fillna(iris.mean(numeric_only=True))\n",
        "\n",
        "X = iris.drop(\"Species\", axis=1)\n",
        "y = iris[\"Species\"]\n",
        "\n",
        "X = StandardScaler().fit_transform(X)\n",
        "y = LabelEncoder().fit_transform(y)\n",
        "\n",
        "X_train, X_test, y_train, y_test = train_test_split(X, y, test_size=0.2, random_state=42)\n",
        "\n",
        "model = SVC()\n",
        "model.fit(X_train, y_train)\n",
        "y_pred = model.predict(X_test)\n",
        "\n",
        "print(\"Iris - SVM\")\n",
        "print(\"Accuracy:\", accuracy_score(y_test, y_pred))\n",
        "print(\"Precision:\", precision_score(y_test, y_pred, average=\"macro\"))\n",
        "print(\"Recall:\", recall_score(y_test, y_pred, average=\"macro\"))\n",
        "print(\"F1:\", f1_score(y_test, y_pred, average=\"macro\"))\n"
      ],
      "metadata": {
        "colab": {
          "base_uri": "https://localhost:8080/"
        },
        "id": "st9phtTVzu3J",
        "outputId": "721ebfb9-3117-4922-c1e7-5338c1dfdbc5"
      },
      "execution_count": 31,
      "outputs": [
        {
          "output_type": "stream",
          "name": "stdout",
          "text": [
            "Iris - SVM\n",
            "Accuracy: 1.0\n",
            "Precision: 1.0\n",
            "Recall: 1.0\n",
            "F1: 1.0\n"
          ]
        }
      ]
    },
    {
      "cell_type": "code",
      "source": [
        "# 9. Breast Cancer - KNN (Kaggle version)\n",
        "\n",
        "cancer = pd.read_csv(\"breast_cancer.csv\")\n",
        "\n",
        "print(cancer.shape)\n",
        "print(cancer.columns)\n",
        "\n",
        "\n",
        "# Drop unnecessary columns\n",
        "cancer = cancer.drop([\"id\", \"Unnamed: 32\"], axis=1)\n",
        "\n",
        "# Features and target\n",
        "X = cancer.drop(\"diagnosis\", axis=1)\n",
        "y = cancer[\"diagnosis\"]\n",
        "\n",
        "# Encode labels (M = malignant, B = benign)\n",
        "y = LabelEncoder().fit_transform(y)\n",
        "\n",
        "# Scale features\n",
        "X = StandardScaler().fit_transform(X)\n",
        "\n",
        "# Train/test split\n",
        "X_train, X_test, y_train, y_test = train_test_split(\n",
        "    X, y, test_size=0.2, random_state=42\n",
        ")\n",
        "\n",
        "# Model\n",
        "model = KNeighborsClassifier()\n",
        "model.fit(X_train, y_train)\n",
        "y_pred = model.predict(X_test)\n",
        "\n",
        "# Results\n",
        "print(\"Breast Cancer - KNN\")\n",
        "print(\"Accuracy:\", accuracy_score(y_test, y_pred))\n",
        "print(\"Confusion Matrix:\\n\", confusion_matrix(y_test, y_pred))\n",
        "print(\"\\nClassification Report:\\n\", classification_report(y_test, y_pred))\n"
      ],
      "metadata": {
        "colab": {
          "base_uri": "https://localhost:8080/"
        },
        "id": "bhQ9LOfVztqv",
        "outputId": "233e9921-e62f-40e6-adf5-53dc00e0d090"
      },
      "execution_count": 32,
      "outputs": [
        {
          "output_type": "stream",
          "name": "stdout",
          "text": [
            "(569, 33)\n",
            "Index(['id', 'diagnosis', 'radius_mean', 'texture_mean', 'perimeter_mean',\n",
            "       'area_mean', 'smoothness_mean', 'compactness_mean', 'concavity_mean',\n",
            "       'concave points_mean', 'symmetry_mean', 'fractal_dimension_mean',\n",
            "       'radius_se', 'texture_se', 'perimeter_se', 'area_se', 'smoothness_se',\n",
            "       'compactness_se', 'concavity_se', 'concave points_se', 'symmetry_se',\n",
            "       'fractal_dimension_se', 'radius_worst', 'texture_worst',\n",
            "       'perimeter_worst', 'area_worst', 'smoothness_worst',\n",
            "       'compactness_worst', 'concavity_worst', 'concave points_worst',\n",
            "       'symmetry_worst', 'fractal_dimension_worst', 'Unnamed: 32'],\n",
            "      dtype='object')\n",
            "Breast Cancer - KNN\n",
            "Accuracy: 0.9473684210526315\n",
            "Confusion Matrix:\n",
            " [[68  3]\n",
            " [ 3 40]]\n",
            "\n",
            "Classification Report:\n",
            "               precision    recall  f1-score   support\n",
            "\n",
            "           0       0.96      0.96      0.96        71\n",
            "           1       0.93      0.93      0.93        43\n",
            "\n",
            "    accuracy                           0.95       114\n",
            "   macro avg       0.94      0.94      0.94       114\n",
            "weighted avg       0.95      0.95      0.95       114\n",
            "\n"
          ]
        }
      ]
    },
    {
      "cell_type": "code",
      "source": [],
      "metadata": {
        "id": "Y8nngOkv1sxT"
      },
      "execution_count": 32,
      "outputs": []
    }
  ]
}
