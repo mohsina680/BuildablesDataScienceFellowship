{
  "nbformat": 4,
  "nbformat_minor": 0,
  "metadata": {
    "colab": {
      "provenance": [],
      "authorship_tag": "ABX9TyOGf7h+1mF2+e0FxQlmoI0q",
      "include_colab_link": true
    },
    "kernelspec": {
      "name": "python3",
      "display_name": "Python 3"
    },
    "language_info": {
      "name": "python"
    }
  },
  "cells": [
    {
      "cell_type": "markdown",
      "metadata": {
        "id": "view-in-github",
        "colab_type": "text"
      },
      "source": [
        "<a href=\"https://colab.research.google.com/github/mohsina680/BuildablesDataScienceFellowship/blob/main/Task_4_data_analysis.ipynb\" target=\"_parent\"><img src=\"https://colab.research.google.com/assets/colab-badge.svg\" alt=\"Open In Colab\"/></a>"
      ]
    },
    {
      "cell_type": "markdown",
      "source": [
        "Import dependencies"
      ],
      "metadata": {
        "id": "2fqtgoSmvJaG"
      }
    },
    {
      "cell_type": "code",
      "execution_count": 49,
      "metadata": {
        "id": "XyIiuObvlZ6G"
      },
      "outputs": [],
      "source": [
        "import numpy as np\n",
        "import pandas as pd\n",
        "from sklearn.datasets import load_iris\n",
        "from sklearn.model_selection import train_test_split\n",
        "import matplotlib.pyplot as plt\n",
        "from sklearn.linear_model import LinearRegression\n",
        "from sklearn.preprocessing import MinMaxScaler\n",
        "import seaborn as sns\n"
      ]
    },
    {
      "cell_type": "code",
      "source": [
        "#load iris_data\n",
        "iris = load_iris()"
      ],
      "metadata": {
        "id": "fSppj9pMvPC9"
      },
      "execution_count": 28,
      "outputs": []
    },
    {
      "cell_type": "code",
      "source": [
        "# load into pandas data frame\n",
        "iris_df = pd.DataFrame(data=iris.data, columns=iris.feature_names)\n",
        "iris_df['target'] = iris.target\n",
        "iris_df.head(7)"
      ],
      "metadata": {
        "colab": {
          "base_uri": "https://localhost:8080/",
          "height": 269
        },
        "id": "-KjmyWOQvlLn",
        "outputId": "75202962-581b-4178-bd24-4b840995ed61"
      },
      "execution_count": 29,
      "outputs": [
        {
          "output_type": "execute_result",
          "data": {
            "text/plain": [
              "   sepal length (cm)  sepal width (cm)  petal length (cm)  petal width (cm)  \\\n",
              "0                5.1               3.5                1.4               0.2   \n",
              "1                4.9               3.0                1.4               0.2   \n",
              "2                4.7               3.2                1.3               0.2   \n",
              "3                4.6               3.1                1.5               0.2   \n",
              "4                5.0               3.6                1.4               0.2   \n",
              "5                5.4               3.9                1.7               0.4   \n",
              "6                4.6               3.4                1.4               0.3   \n",
              "\n",
              "   target  \n",
              "0       0  \n",
              "1       0  \n",
              "2       0  \n",
              "3       0  \n",
              "4       0  \n",
              "5       0  \n",
              "6       0  "
            ],
            "text/html": [
              "\n",
              "  <div id=\"df-be143c85-20b1-437e-ab01-a01b8949eb10\" class=\"colab-df-container\">\n",
              "    <div>\n",
              "<style scoped>\n",
              "    .dataframe tbody tr th:only-of-type {\n",
              "        vertical-align: middle;\n",
              "    }\n",
              "\n",
              "    .dataframe tbody tr th {\n",
              "        vertical-align: top;\n",
              "    }\n",
              "\n",
              "    .dataframe thead th {\n",
              "        text-align: right;\n",
              "    }\n",
              "</style>\n",
              "<table border=\"1\" class=\"dataframe\">\n",
              "  <thead>\n",
              "    <tr style=\"text-align: right;\">\n",
              "      <th></th>\n",
              "      <th>sepal length (cm)</th>\n",
              "      <th>sepal width (cm)</th>\n",
              "      <th>petal length (cm)</th>\n",
              "      <th>petal width (cm)</th>\n",
              "      <th>target</th>\n",
              "    </tr>\n",
              "  </thead>\n",
              "  <tbody>\n",
              "    <tr>\n",
              "      <th>0</th>\n",
              "      <td>5.1</td>\n",
              "      <td>3.5</td>\n",
              "      <td>1.4</td>\n",
              "      <td>0.2</td>\n",
              "      <td>0</td>\n",
              "    </tr>\n",
              "    <tr>\n",
              "      <th>1</th>\n",
              "      <td>4.9</td>\n",
              "      <td>3.0</td>\n",
              "      <td>1.4</td>\n",
              "      <td>0.2</td>\n",
              "      <td>0</td>\n",
              "    </tr>\n",
              "    <tr>\n",
              "      <th>2</th>\n",
              "      <td>4.7</td>\n",
              "      <td>3.2</td>\n",
              "      <td>1.3</td>\n",
              "      <td>0.2</td>\n",
              "      <td>0</td>\n",
              "    </tr>\n",
              "    <tr>\n",
              "      <th>3</th>\n",
              "      <td>4.6</td>\n",
              "      <td>3.1</td>\n",
              "      <td>1.5</td>\n",
              "      <td>0.2</td>\n",
              "      <td>0</td>\n",
              "    </tr>\n",
              "    <tr>\n",
              "      <th>4</th>\n",
              "      <td>5.0</td>\n",
              "      <td>3.6</td>\n",
              "      <td>1.4</td>\n",
              "      <td>0.2</td>\n",
              "      <td>0</td>\n",
              "    </tr>\n",
              "    <tr>\n",
              "      <th>5</th>\n",
              "      <td>5.4</td>\n",
              "      <td>3.9</td>\n",
              "      <td>1.7</td>\n",
              "      <td>0.4</td>\n",
              "      <td>0</td>\n",
              "    </tr>\n",
              "    <tr>\n",
              "      <th>6</th>\n",
              "      <td>4.6</td>\n",
              "      <td>3.4</td>\n",
              "      <td>1.4</td>\n",
              "      <td>0.3</td>\n",
              "      <td>0</td>\n",
              "    </tr>\n",
              "  </tbody>\n",
              "</table>\n",
              "</div>\n",
              "    <div class=\"colab-df-buttons\">\n",
              "\n",
              "  <div class=\"colab-df-container\">\n",
              "    <button class=\"colab-df-convert\" onclick=\"convertToInteractive('df-be143c85-20b1-437e-ab01-a01b8949eb10')\"\n",
              "            title=\"Convert this dataframe to an interactive table.\"\n",
              "            style=\"display:none;\">\n",
              "\n",
              "  <svg xmlns=\"http://www.w3.org/2000/svg\" height=\"24px\" viewBox=\"0 -960 960 960\">\n",
              "    <path d=\"M120-120v-720h720v720H120Zm60-500h600v-160H180v160Zm220 220h160v-160H400v160Zm0 220h160v-160H400v160ZM180-400h160v-160H180v160Zm440 0h160v-160H620v160ZM180-180h160v-160H180v160Zm440 0h160v-160H620v160Z\"/>\n",
              "  </svg>\n",
              "    </button>\n",
              "\n",
              "  <style>\n",
              "    .colab-df-container {\n",
              "      display:flex;\n",
              "      gap: 12px;\n",
              "    }\n",
              "\n",
              "    .colab-df-convert {\n",
              "      background-color: #E8F0FE;\n",
              "      border: none;\n",
              "      border-radius: 50%;\n",
              "      cursor: pointer;\n",
              "      display: none;\n",
              "      fill: #1967D2;\n",
              "      height: 32px;\n",
              "      padding: 0 0 0 0;\n",
              "      width: 32px;\n",
              "    }\n",
              "\n",
              "    .colab-df-convert:hover {\n",
              "      background-color: #E2EBFA;\n",
              "      box-shadow: 0px 1px 2px rgba(60, 64, 67, 0.3), 0px 1px 3px 1px rgba(60, 64, 67, 0.15);\n",
              "      fill: #174EA6;\n",
              "    }\n",
              "\n",
              "    .colab-df-buttons div {\n",
              "      margin-bottom: 4px;\n",
              "    }\n",
              "\n",
              "    [theme=dark] .colab-df-convert {\n",
              "      background-color: #3B4455;\n",
              "      fill: #D2E3FC;\n",
              "    }\n",
              "\n",
              "    [theme=dark] .colab-df-convert:hover {\n",
              "      background-color: #434B5C;\n",
              "      box-shadow: 0px 1px 3px 1px rgba(0, 0, 0, 0.15);\n",
              "      filter: drop-shadow(0px 1px 2px rgba(0, 0, 0, 0.3));\n",
              "      fill: #FFFFFF;\n",
              "    }\n",
              "  </style>\n",
              "\n",
              "    <script>\n",
              "      const buttonEl =\n",
              "        document.querySelector('#df-be143c85-20b1-437e-ab01-a01b8949eb10 button.colab-df-convert');\n",
              "      buttonEl.style.display =\n",
              "        google.colab.kernel.accessAllowed ? 'block' : 'none';\n",
              "\n",
              "      async function convertToInteractive(key) {\n",
              "        const element = document.querySelector('#df-be143c85-20b1-437e-ab01-a01b8949eb10');\n",
              "        const dataTable =\n",
              "          await google.colab.kernel.invokeFunction('convertToInteractive',\n",
              "                                                    [key], {});\n",
              "        if (!dataTable) return;\n",
              "\n",
              "        const docLinkHtml = 'Like what you see? Visit the ' +\n",
              "          '<a target=\"_blank\" href=https://colab.research.google.com/notebooks/data_table.ipynb>data table notebook</a>'\n",
              "          + ' to learn more about interactive tables.';\n",
              "        element.innerHTML = '';\n",
              "        dataTable['output_type'] = 'display_data';\n",
              "        await google.colab.output.renderOutput(dataTable, element);\n",
              "        const docLink = document.createElement('div');\n",
              "        docLink.innerHTML = docLinkHtml;\n",
              "        element.appendChild(docLink);\n",
              "      }\n",
              "    </script>\n",
              "  </div>\n",
              "\n",
              "\n",
              "    <div id=\"df-1e7efaaa-787d-4259-acdd-1fbdcb67eca1\">\n",
              "      <button class=\"colab-df-quickchart\" onclick=\"quickchart('df-1e7efaaa-787d-4259-acdd-1fbdcb67eca1')\"\n",
              "                title=\"Suggest charts\"\n",
              "                style=\"display:none;\">\n",
              "\n",
              "<svg xmlns=\"http://www.w3.org/2000/svg\" height=\"24px\"viewBox=\"0 0 24 24\"\n",
              "     width=\"24px\">\n",
              "    <g>\n",
              "        <path d=\"M19 3H5c-1.1 0-2 .9-2 2v14c0 1.1.9 2 2 2h14c1.1 0 2-.9 2-2V5c0-1.1-.9-2-2-2zM9 17H7v-7h2v7zm4 0h-2V7h2v10zm4 0h-2v-4h2v4z\"/>\n",
              "    </g>\n",
              "</svg>\n",
              "      </button>\n",
              "\n",
              "<style>\n",
              "  .colab-df-quickchart {\n",
              "      --bg-color: #E8F0FE;\n",
              "      --fill-color: #1967D2;\n",
              "      --hover-bg-color: #E2EBFA;\n",
              "      --hover-fill-color: #174EA6;\n",
              "      --disabled-fill-color: #AAA;\n",
              "      --disabled-bg-color: #DDD;\n",
              "  }\n",
              "\n",
              "  [theme=dark] .colab-df-quickchart {\n",
              "      --bg-color: #3B4455;\n",
              "      --fill-color: #D2E3FC;\n",
              "      --hover-bg-color: #434B5C;\n",
              "      --hover-fill-color: #FFFFFF;\n",
              "      --disabled-bg-color: #3B4455;\n",
              "      --disabled-fill-color: #666;\n",
              "  }\n",
              "\n",
              "  .colab-df-quickchart {\n",
              "    background-color: var(--bg-color);\n",
              "    border: none;\n",
              "    border-radius: 50%;\n",
              "    cursor: pointer;\n",
              "    display: none;\n",
              "    fill: var(--fill-color);\n",
              "    height: 32px;\n",
              "    padding: 0;\n",
              "    width: 32px;\n",
              "  }\n",
              "\n",
              "  .colab-df-quickchart:hover {\n",
              "    background-color: var(--hover-bg-color);\n",
              "    box-shadow: 0 1px 2px rgba(60, 64, 67, 0.3), 0 1px 3px 1px rgba(60, 64, 67, 0.15);\n",
              "    fill: var(--button-hover-fill-color);\n",
              "  }\n",
              "\n",
              "  .colab-df-quickchart-complete:disabled,\n",
              "  .colab-df-quickchart-complete:disabled:hover {\n",
              "    background-color: var(--disabled-bg-color);\n",
              "    fill: var(--disabled-fill-color);\n",
              "    box-shadow: none;\n",
              "  }\n",
              "\n",
              "  .colab-df-spinner {\n",
              "    border: 2px solid var(--fill-color);\n",
              "    border-color: transparent;\n",
              "    border-bottom-color: var(--fill-color);\n",
              "    animation:\n",
              "      spin 1s steps(1) infinite;\n",
              "  }\n",
              "\n",
              "  @keyframes spin {\n",
              "    0% {\n",
              "      border-color: transparent;\n",
              "      border-bottom-color: var(--fill-color);\n",
              "      border-left-color: var(--fill-color);\n",
              "    }\n",
              "    20% {\n",
              "      border-color: transparent;\n",
              "      border-left-color: var(--fill-color);\n",
              "      border-top-color: var(--fill-color);\n",
              "    }\n",
              "    30% {\n",
              "      border-color: transparent;\n",
              "      border-left-color: var(--fill-color);\n",
              "      border-top-color: var(--fill-color);\n",
              "      border-right-color: var(--fill-color);\n",
              "    }\n",
              "    40% {\n",
              "      border-color: transparent;\n",
              "      border-right-color: var(--fill-color);\n",
              "      border-top-color: var(--fill-color);\n",
              "    }\n",
              "    60% {\n",
              "      border-color: transparent;\n",
              "      border-right-color: var(--fill-color);\n",
              "    }\n",
              "    80% {\n",
              "      border-color: transparent;\n",
              "      border-right-color: var(--fill-color);\n",
              "      border-bottom-color: var(--fill-color);\n",
              "    }\n",
              "    90% {\n",
              "      border-color: transparent;\n",
              "      border-bottom-color: var(--fill-color);\n",
              "    }\n",
              "  }\n",
              "</style>\n",
              "\n",
              "      <script>\n",
              "        async function quickchart(key) {\n",
              "          const quickchartButtonEl =\n",
              "            document.querySelector('#' + key + ' button');\n",
              "          quickchartButtonEl.disabled = true;  // To prevent multiple clicks.\n",
              "          quickchartButtonEl.classList.add('colab-df-spinner');\n",
              "          try {\n",
              "            const charts = await google.colab.kernel.invokeFunction(\n",
              "                'suggestCharts', [key], {});\n",
              "          } catch (error) {\n",
              "            console.error('Error during call to suggestCharts:', error);\n",
              "          }\n",
              "          quickchartButtonEl.classList.remove('colab-df-spinner');\n",
              "          quickchartButtonEl.classList.add('colab-df-quickchart-complete');\n",
              "        }\n",
              "        (() => {\n",
              "          let quickchartButtonEl =\n",
              "            document.querySelector('#df-1e7efaaa-787d-4259-acdd-1fbdcb67eca1 button');\n",
              "          quickchartButtonEl.style.display =\n",
              "            google.colab.kernel.accessAllowed ? 'block' : 'none';\n",
              "        })();\n",
              "      </script>\n",
              "    </div>\n",
              "\n",
              "    </div>\n",
              "  </div>\n"
            ],
            "application/vnd.google.colaboratory.intrinsic+json": {
              "type": "dataframe",
              "variable_name": "iris_df",
              "summary": "{\n  \"name\": \"iris_df\",\n  \"rows\": 150,\n  \"fields\": [\n    {\n      \"column\": \"sepal length (cm)\",\n      \"properties\": {\n        \"dtype\": \"number\",\n        \"std\": 0.8280661279778629,\n        \"min\": 4.3,\n        \"max\": 7.9,\n        \"num_unique_values\": 35,\n        \"samples\": [\n          6.2,\n          4.5,\n          5.6\n        ],\n        \"semantic_type\": \"\",\n        \"description\": \"\"\n      }\n    },\n    {\n      \"column\": \"sepal width (cm)\",\n      \"properties\": {\n        \"dtype\": \"number\",\n        \"std\": 0.435866284936698,\n        \"min\": 2.0,\n        \"max\": 4.4,\n        \"num_unique_values\": 23,\n        \"samples\": [\n          2.3,\n          4.0,\n          3.5\n        ],\n        \"semantic_type\": \"\",\n        \"description\": \"\"\n      }\n    },\n    {\n      \"column\": \"petal length (cm)\",\n      \"properties\": {\n        \"dtype\": \"number\",\n        \"std\": 1.7652982332594667,\n        \"min\": 1.0,\n        \"max\": 6.9,\n        \"num_unique_values\": 43,\n        \"samples\": [\n          6.7,\n          3.8,\n          3.7\n        ],\n        \"semantic_type\": \"\",\n        \"description\": \"\"\n      }\n    },\n    {\n      \"column\": \"petal width (cm)\",\n      \"properties\": {\n        \"dtype\": \"number\",\n        \"std\": 0.7622376689603465,\n        \"min\": 0.1,\n        \"max\": 2.5,\n        \"num_unique_values\": 22,\n        \"samples\": [\n          0.2,\n          1.2,\n          1.3\n        ],\n        \"semantic_type\": \"\",\n        \"description\": \"\"\n      }\n    },\n    {\n      \"column\": \"target\",\n      \"properties\": {\n        \"dtype\": \"number\",\n        \"std\": 0,\n        \"min\": 0,\n        \"max\": 2,\n        \"num_unique_values\": 3,\n        \"samples\": [\n          0,\n          1,\n          2\n        ],\n        \"semantic_type\": \"\",\n        \"description\": \"\"\n      }\n    }\n  ]\n}"
            }
          },
          "metadata": {},
          "execution_count": 29
        }
      ]
    },
    {
      "cell_type": "markdown",
      "source": [
        "training and testing shape"
      ],
      "metadata": {
        "id": "rnMnPeX4_ROF"
      }
    },
    {
      "cell_type": "code",
      "source": [
        "\n",
        "# Split features (X) and target (y)\n",
        "X = iris_df.drop('target', axis=1)\n",
        "y = iris_df['target']\n",
        "\n",
        "# Train-test split (70/30)\n",
        "X_train, X_test, y_train, y_test = train_test_split(\n",
        "    X, y, test_size=0.3, random_state=42\n",
        ")\n",
        "\n",
        "print(\"Training shape:\", X_train.shape)\n",
        "print(\"Testing shape:\", X_test.shape)"
      ],
      "metadata": {
        "colab": {
          "base_uri": "https://localhost:8080/"
        },
        "id": "gXchMIVrw0yD",
        "outputId": "5a0ff78f-96b7-4968-9ec4-d4a6b73d5ff3"
      },
      "execution_count": 30,
      "outputs": [
        {
          "output_type": "stream",
          "name": "stdout",
          "text": [
            "Training shape: (105, 4)\n",
            "Testing shape: (45, 4)\n"
          ]
        }
      ]
    },
    {
      "cell_type": "markdown",
      "source": [
        "Stats, means/ median / mode/ variance / Standard deviation"
      ],
      "metadata": {
        "id": "Wd-hxjyi_Xo6"
      }
    },
    {
      "cell_type": "code",
      "source": [
        "# Mean\n",
        "print(\"Mean:\\n\", iris_df.mean())\n",
        "\n",
        "# Median\n",
        "print(\"Median:\\n\", iris_df.median())\n",
        "\n",
        "# Variance\n",
        "print(\"Variance:\\n\", iris_df.var())\n",
        "\n",
        "# Standard Deviation\n",
        "print(\"Standard Deviation:\\n\", iris_df.std())\n",
        "\n",
        "# Quick summary\n",
        "print(\"\\nDescribe summary:\\n\", iris_df.describe())\n"
      ],
      "metadata": {
        "colab": {
          "base_uri": "https://localhost:8080/"
        },
        "id": "McPat90kyv5h",
        "outputId": "05ffa0c4-3ef9-4e1f-86df-765c30857d49"
      },
      "execution_count": 32,
      "outputs": [
        {
          "output_type": "stream",
          "name": "stdout",
          "text": [
            "Mean:\n",
            " sepal length (cm)    5.843333\n",
            "sepal width (cm)     3.057333\n",
            "petal length (cm)    3.758000\n",
            "petal width (cm)     1.199333\n",
            "target               1.000000\n",
            "dtype: float64\n",
            "Median:\n",
            " sepal length (cm)    5.80\n",
            "sepal width (cm)     3.00\n",
            "petal length (cm)    4.35\n",
            "petal width (cm)     1.30\n",
            "target               1.00\n",
            "dtype: float64\n",
            "Variance:\n",
            " sepal length (cm)    0.685694\n",
            "sepal width (cm)     0.189979\n",
            "petal length (cm)    3.116278\n",
            "petal width (cm)     0.581006\n",
            "target               0.671141\n",
            "dtype: float64\n",
            "Standard Deviation:\n",
            " sepal length (cm)    0.828066\n",
            "sepal width (cm)     0.435866\n",
            "petal length (cm)    1.765298\n",
            "petal width (cm)     0.762238\n",
            "target               0.819232\n",
            "dtype: float64\n",
            "\n",
            "Describe summary:\n",
            "        sepal length (cm)  sepal width (cm)  petal length (cm)  \\\n",
            "count         150.000000        150.000000         150.000000   \n",
            "mean            5.843333          3.057333           3.758000   \n",
            "std             0.828066          0.435866           1.765298   \n",
            "min             4.300000          2.000000           1.000000   \n",
            "25%             5.100000          2.800000           1.600000   \n",
            "50%             5.800000          3.000000           4.350000   \n",
            "75%             6.400000          3.300000           5.100000   \n",
            "max             7.900000          4.400000           6.900000   \n",
            "\n",
            "       petal width (cm)      target  \n",
            "count        150.000000  150.000000  \n",
            "mean           1.199333    1.000000  \n",
            "std            0.762238    0.819232  \n",
            "min            0.100000    0.000000  \n",
            "25%            0.300000    0.000000  \n",
            "50%            1.300000    1.000000  \n",
            "75%            1.800000    2.000000  \n",
            "max            2.500000    2.000000  \n"
          ]
        }
      ]
    },
    {
      "cell_type": "markdown",
      "source": [
        "Histogram plot"
      ],
      "metadata": {
        "id": "0b0b231C_i4M"
      }
    },
    {
      "cell_type": "code",
      "source": [
        "\n",
        "# Histogram of sepal length\n",
        "plt.hist(iris_df['sepal length (cm)'], bins=20, color='skyblue', edgecolor='black')\n",
        "plt.title(\"Histogram of Sepal Length\")\n",
        "plt.xlabel(\"Sepal Length (cm)\")\n",
        "plt.ylabel(\"Frequency\")\n",
        "plt.show()\n"
      ],
      "metadata": {
        "colab": {
          "base_uri": "https://localhost:8080/",
          "height": 472
        },
        "id": "AHVulB3l10hq",
        "outputId": "27b1a619-e913-4da5-9647-7c21a6304dbf"
      },
      "execution_count": 35,
      "outputs": [
        {
          "output_type": "display_data",
          "data": {
            "text/plain": [
              "<Figure size 640x480 with 1 Axes>"
            ],
            "image/png": "[encoded data removed]"
          },
          "metadata": {}
        }
      ]
    },
    {
      "cell_type": "markdown",
      "source": [
        "take list of 15 numbers and cal mean/ median"
      ],
      "metadata": {
        "id": "HDHz1H5y4TCa"
      }
    },
    {
      "cell_type": "markdown",
      "source": [
        "take number list and calculate mean/ median"
      ],
      "metadata": {
        "id": "5o8NQ2GN_mxv"
      }
    },
    {
      "cell_type": "code",
      "source": [
        "#take numbers list\n",
        "numbers = [5, 8, 12, 15, 20, 25, 30, 35, 40, 42, 45, 50, 55, 60, 65]\n",
        "#calulate mean/ median\n",
        "mean = sum(numbers) / len(numbers)\n",
        "median = sorted(numbers)[len(numbers) // 2]\n",
        "\n",
        "print(\"Mean:\", mean)\n",
        "print(\"Median:\", median)"
      ],
      "metadata": {
        "colab": {
          "base_uri": "https://localhost:8080/"
        },
        "id": "HfXE4-e_3NPg",
        "outputId": "ec933a48-30e6-45da-a20d-7b1e78d93c15"
      },
      "execution_count": 36,
      "outputs": [
        {
          "output_type": "stream",
          "name": "stdout",
          "text": [
            "Mean: 33.8\n",
            "Median: 35\n"
          ]
        }
      ]
    },
    {
      "cell_type": "markdown",
      "source": [
        "Summary list"
      ],
      "metadata": {
        "id": "_ROLIqdN_tK1"
      }
    },
    {
      "cell_type": "code",
      "source": [
        "#summary list\n",
        "def summary_list(values):\n",
        "  summary= {\n",
        "    'count' : len(values),\n",
        "    'mean' : np.mean(values),\n",
        "    'median' : np.median(values),\n",
        "    'min' : min(values),\n",
        "    'max': max(values)\n",
        "  }\n",
        "  return summary\n",
        "  numbers = [5, 10, 15, 20, 25, 30]\n",
        "print(summary_list(numbers))"
      ],
      "metadata": {
        "colab": {
          "base_uri": "https://localhost:8080/"
        },
        "id": "2SQq0Aik40gL",
        "outputId": "e9a351dd-0aaf-4c6b-ee6a-87695b84b94a"
      },
      "execution_count": 37,
      "outputs": [
        {
          "output_type": "stream",
          "name": "stdout",
          "text": [
            "{'count': 15, 'mean': np.float64(33.8), 'median': np.float64(35.0), 'min': 5, 'max': 65}\n"
          ]
        }
      ]
    },
    {
      "cell_type": "markdown",
      "source": [
        "random matrix"
      ],
      "metadata": {
        "id": "SfNmdqPU_vrD"
      }
    },
    {
      "cell_type": "code",
      "source": [
        "#random matrix 6.6 matrix\n",
        "matrix = np.random.randint(1, 51, size=(6,6))\n",
        "print(matrix)"
      ],
      "metadata": {
        "colab": {
          "base_uri": "https://localhost:8080/"
        },
        "id": "drgLRvos6JKH",
        "outputId": "6da37ea2-decd-4484-8a62-8c913aaea67a"
      },
      "execution_count": 39,
      "outputs": [
        {
          "output_type": "stream",
          "name": "stdout",
          "text": [
            "[[15 12  1 23  9  1]\n",
            " [ 3 39  2 13 10 22]\n",
            " [41 19 21 12 19 33]\n",
            " [10  5 46 24 39  2]\n",
            " [43 25 31 10 18 42]\n",
            " [30 34 16 27 12 46]]\n"
          ]
        }
      ]
    },
    {
      "cell_type": "markdown",
      "source": [
        "import the CSV file and showed the first rows"
      ],
      "metadata": {
        "id": "sYLfYZZS_yC0"
      }
    },
    {
      "cell_type": "code",
      "source": [
        "# import the csv file and showed the first 5 line\n",
        "from google.colab import files\n",
        "uploaded = files.upload()"
      ],
      "metadata": {
        "colab": {
          "base_uri": "https://localhost:8080/",
          "height": 73
        },
        "id": "5uMeEJBm6XA2",
        "outputId": "1c739620-8394-4cee-8552-aeba876f404a"
      },
      "execution_count": 40,
      "outputs": [
        {
          "output_type": "display_data",
          "data": {
            "text/plain": [
              "<IPython.core.display.HTML object>"
            ],
            "text/html": [
              "\n",
              "     <input type=\"file\" id=\"files-f1c8285b-40c0-472d-bbbf-cced77799717\" name=\"files[]\" multiple disabled\n",
              "        style=\"border:none\" />\n",
              "     <output id=\"result-f1c8285b-40c0-472d-bbbf-cced77799717\">\n",
              "      Upload widget is only available when the cell has been executed in the\n",
              "      current browser session. Please rerun this cell to enable.\n",
              "      </output>\n",
              "      <script>// Copyright 2017 Google LLC\n",
              "//\n",
              "// Licensed under the Apache License, Version 2.0 (the \"License\");\n",
              "// you may not use this file except in compliance with the License.\n",
              "// You may obtain a copy of the License at\n",
              "//\n",
              "//      http://www.apache.org/licenses/LICENSE-2.0\n",
              "//\n",
              "// Unless required by applicable law or agreed to in writing, software\n",
              "// distributed under the License is distributed on an \"AS IS\" BASIS,\n",
              "// WITHOUT WARRANTIES OR CONDITIONS OF ANY KIND, either express or implied.\n",
              "// See the License for the specific language governing permissions and\n",
              "// limitations under the License.\n",
              "\n",
              "/**\n",
              " * @fileoverview Helpers for google.colab Python module.\n",
              " */\n",
              "(function(scope) {\n",
              "function span(text, styleAttributes = {}) {\n",
              "  const element = document.createElement('span');\n",
              "  element.textContent = text;\n",
              "  for (const key of Object.keys(styleAttributes)) {\n",
              "    element.style[key] = styleAttributes[key];\n",
              "  }\n",
              "  return element;\n",
              "}\n",
              "\n",
              "// Max number of bytes which will be uploaded at a time.\n",
              "const MAX_PAYLOAD_SIZE = 100 * 1024;\n",
              "\n",
              "function _uploadFiles(inputId, outputId) {\n",
              "  const steps = uploadFilesStep(inputId, outputId);\n",
              "  const outputElement = document.getElementById(outputId);\n",
              "  // Cache steps on the outputElement to make it available for the next call\n",
              "  // to uploadFilesContinue from Python.\n",
              "  outputElement.steps = steps;\n",
              "\n",
              "  return _uploadFilesContinue(outputId);\n",
              "}\n",
              "\n",
              "// This is roughly an async generator (not supported in the browser yet),\n",
              "// where there are multiple asynchronous steps and the Python side is going\n",
              "// to poll for completion of each step.\n",
              "// This uses a Promise to block the python side on completion of each step,\n",
              "// then passes the result of the previous step as the input to the next step.\n",
              "function _uploadFilesContinue(outputId) {\n",
              "  const outputElement = document.getElementById(outputId);\n",
              "  const steps = outputElement.steps;\n",
              "\n",
              "  const next = steps.next(outputElement.lastPromiseValue);\n",
              "  return Promise.resolve(next.value.promise).then((value) => {\n",
              "    // Cache the last promise value to make it available to the next\n",
              "    // step of the generator.\n",
              "    outputElement.lastPromiseValue = value;\n",
              "    return next.value.response;\n",
              "  });\n",
              "}\n",
              "\n",
              "/**\n",
              " * Generator function which is called between each async step of the upload\n",
              " * process.\n",
              " * @param {string} inputId Element ID of the input file picker element.\n",
              " * @param {string} outputId Element ID of the output display.\n",
              " * @return {!Iterable<!Object>} Iterable of next steps.\n",
              " */\n",
              "function* uploadFilesStep(inputId, outputId) {\n",
              "  const inputElement = document.getElementById(inputId);\n",
              "  inputElement.disabled = false;\n",
              "\n",
              "  const outputElement = document.getElementById(outputId);\n",
              "  outputElement.innerHTML = '';\n",
              "\n",
              "  const pickedPromise = new Promise((resolve) => {\n",
              "    inputElement.addEventListener('change', (e) => {\n",
              "      resolve(e.target.files);\n",
              "    });\n",
              "  });\n",
              "\n",
              "  const cancel = document.createElement('button');\n",
              "  inputElement.parentElement.appendChild(cancel);\n",
              "  cancel.textContent = 'Cancel upload';\n",
              "  const cancelPromise = new Promise((resolve) => {\n",
              "    cancel.onclick = () => {\n",
              "      resolve(null);\n",
              "    };\n",
              "  });\n",
              "\n",
              "  // Wait for the user to pick the files.\n",
              "  const files = yield {\n",
              "    promise: Promise.race([pickedPromise, cancelPromise]),\n",
              "    response: {\n",
              "      action: 'starting',\n",
              "    }\n",
              "  };\n",
              "\n",
              "  cancel.remove();\n",
              "\n",
              "  // Disable the input element since further picks are not allowed.\n",
              "  inputElement.disabled = true;\n",
              "\n",
              "  if (!files) {\n",
              "    return {\n",
              "      response: {\n",
              "        action: 'complete',\n",
              "      }\n",
              "    };\n",
              "  }\n",
              "\n",
              "  for (const file of files) {\n",
              "    const li = document.createElement('li');\n",
              "    li.append(span(file.name, {fontWeight: 'bold'}));\n",
              "    li.append(span(\n",
              "        `(${file.type || 'n/a'}) - ${file.size} bytes, ` +\n",
              "        `last modified: ${\n",
              "            file.lastModifiedDate ? file.lastModifiedDate.toLocaleDateString() :\n",
              "                                    'n/a'} - `));\n",
              "    const percent = span('0% done');\n",
              "    li.appendChild(percent);\n",
              "\n",
              "    outputElement.appendChild(li);\n",
              "\n",
              "    const fileDataPromise = new Promise((resolve) => {\n",
              "      const reader = new FileReader();\n",
              "      reader.onload = (e) => {\n",
              "        resolve(e.target.result);\n",
              "      };\n",
              "      reader.readAsArrayBuffer(file);\n",
              "    });\n",
              "    // Wait for the data to be ready.\n",
              "    let fileData = yield {\n",
              "      promise: fileDataPromise,\n",
              "      response: {\n",
              "        action: 'continue',\n",
              "      }\n",
              "    };\n",
              "\n",
              "    // Use a chunked sending to avoid message size limits. See b/62115660.\n",
              "    let position = 0;\n",
              "    do {\n",
              "      const length = Math.min(fileData.byteLength - position, MAX_PAYLOAD_SIZE);\n",
              "      const chunk = new Uint8Array(fileData, position, length);\n",
              "      position += length;\n",
              "\n",
              "      const base64 = btoa(String.fromCharCode.apply(null, chunk));\n",
              "      yield {\n",
              "        response: {\n",
              "          action: 'append',\n",
              "          file: file.name,\n",
              "          data: base64,\n",
              "        },\n",
              "      };\n",
              "\n",
              "      let percentDone = fileData.byteLength === 0 ?\n",
              "          100 :\n",
              "          Math.round((position / fileData.byteLength) * 100);\n",
              "      percent.textContent = `${percentDone}% done`;\n",
              "\n",
              "    } while (position < fileData.byteLength);\n",
              "  }\n",
              "\n",
              "  // All done.\n",
              "  yield {\n",
              "    response: {\n",
              "      action: 'complete',\n",
              "    }\n",
              "  };\n",
              "}\n",
              "\n",
              "scope.google = scope.google || {};\n",
              "scope.google.colab = scope.google.colab || {};\n",
              "scope.google.colab._files = {\n",
              "  _uploadFiles,\n",
              "  _uploadFilesContinue,\n",
              "};\n",
              "})(self);\n",
              "</script> "
            ]
          },
          "metadata": {}
        },
        {
          "output_type": "stream",
          "name": "stdout",
          "text": [
            "Saving Project_1.csv to Project_1.csv\n"
          ]
        }
      ]
    },
    {
      "cell_type": "code",
      "source": [
        "df = pd.read_csv('/content/Project_1.csv')\n",
        "df.head()"
      ],
      "metadata": {
        "colab": {
          "base_uri": "https://localhost:8080/",
          "height": 206
        },
        "id": "gFG8fzny7bXR",
        "outputId": "acd39ab3-44b2-4aea-821e-61e431293a86"
      },
      "execution_count": 41,
      "outputs": [
        {
          "output_type": "execute_result",
          "data": {
            "text/plain": [
              "  IMBD title ID            Original titl� Release year                 Genr�  \\\n",
              "0     tt0111161  The Shawshank Redemption   1995-02-10                 Drama   \n",
              "1     tt0068646             The Godfather   09 21 1972          Crime, Drama   \n",
              "2     tt0468569           The Dark Knight  23 -07-2008  Action, Crime, Drama   \n",
              "3     tt0071562    The Godfather: Part II   1975-09-25          Crime, Drama   \n",
              "4     tt0110912              Pulp Fiction   1994-10-28          Crime, Drama   \n",
              "\n",
              "  Duration Country Content Rating              Director  Unnamed: 8  \\\n",
              "0      142     USA              R        Frank Darabont         NaN   \n",
              "1      175     USA              R  Francis Ford Coppola         NaN   \n",
              "2      152      US          PG-13     Christopher Nolan         NaN   \n",
              "3      220     USA              R  Francis Ford Coppola         NaN   \n",
              "4      NaN     USA              R     Quentin Tarantino         NaN   \n",
              "\n",
              "           Income      Votes Score  \n",
              "0     $28,815,245  2.278.845   9.3  \n",
              "1    $246,120,974  1.572.674   9.2  \n",
              "2  $1,005,455,211  2.241.615     9  \n",
              "3   $ 4o8,035,783  1.098.714  9,.0  \n",
              "4    $222,831,817  1.780.147  8,9f  "
            ],
            "text/html": [
              "\n",
              "  <div id=\"df-70e0fa33-1f03-410f-8587-45c67ad5c8fb\" class=\"colab-df-container\">\n",
              "    <div>\n",
              "<style scoped>\n",
              "    .dataframe tbody tr th:only-of-type {\n",
              "        vertical-align: middle;\n",
              "    }\n",
              "\n",
              "    .dataframe tbody tr th {\n",
              "        vertical-align: top;\n",
              "    }\n",
              "\n",
              "    .dataframe thead th {\n",
              "        text-align: right;\n",
              "    }\n",
              "</style>\n",
              "<table border=\"1\" class=\"dataframe\">\n",
              "  <thead>\n",
              "    <tr style=\"text-align: right;\">\n",
              "      <th></th>\n",
              "      <th>IMBD title ID</th>\n",
              "      <th>Original titl�</th>\n",
              "      <th>Release year</th>\n",
              "      <th>Genr�</th>\n",
              "      <th>Duration</th>\n",
              "      <th>Country</th>\n",
              "      <th>Content Rating</th>\n",
              "      <th>Director</th>\n",
              "      <th>Unnamed: 8</th>\n",
              "      <th>Income</th>\n",
              "      <th>Votes</th>\n",
              "      <th>Score</th>\n",
              "    </tr>\n",
              "  </thead>\n",
              "  <tbody>\n",
              "    <tr>\n",
              "      <th>0</th>\n",
              "      <td>tt0111161</td>\n",
              "      <td>The Shawshank Redemption</td>\n",
              "      <td>1995-02-10</td>\n",
              "      <td>Drama</td>\n",
              "      <td>142</td>\n",
              "      <td>USA</td>\n",
              "      <td>R</td>\n",
              "      <td>Frank Darabont</td>\n",
              "      <td>NaN</td>\n",
              "      <td>$28,815,245</td>\n",
              "      <td>2.278.845</td>\n",
              "      <td>9.3</td>\n",
              "    </tr>\n",
              "    <tr>\n",
              "      <th>1</th>\n",
              "      <td>tt0068646</td>\n",
              "      <td>The Godfather</td>\n",
              "      <td>09 21 1972</td>\n",
              "      <td>Crime, Drama</td>\n",
              "      <td>175</td>\n",
              "      <td>USA</td>\n",
              "      <td>R</td>\n",
              "      <td>Francis Ford Coppola</td>\n",
              "      <td>NaN</td>\n",
              "      <td>$246,120,974</td>\n",
              "      <td>1.572.674</td>\n",
              "      <td>9.2</td>\n",
              "    </tr>\n",
              "    <tr>\n",
              "      <th>2</th>\n",
              "      <td>tt0468569</td>\n",
              "      <td>The Dark Knight</td>\n",
              "      <td>23 -07-2008</td>\n",
              "      <td>Action, Crime, Drama</td>\n",
              "      <td>152</td>\n",
              "      <td>US</td>\n",
              "      <td>PG-13</td>\n",
              "      <td>Christopher Nolan</td>\n",
              "      <td>NaN</td>\n",
              "      <td>$1,005,455,211</td>\n",
              "      <td>2.241.615</td>\n",
              "      <td>9</td>\n",
              "    </tr>\n",
              "    <tr>\n",
              "      <th>3</th>\n",
              "      <td>tt0071562</td>\n",
              "      <td>The Godfather: Part II</td>\n",
              "      <td>1975-09-25</td>\n",
              "      <td>Crime, Drama</td>\n",
              "      <td>220</td>\n",
              "      <td>USA</td>\n",
              "      <td>R</td>\n",
              "      <td>Francis Ford Coppola</td>\n",
              "      <td>NaN</td>\n",
              "      <td>$ 4o8,035,783</td>\n",
              "      <td>1.098.714</td>\n",
              "      <td>9,.0</td>\n",
              "    </tr>\n",
              "    <tr>\n",
              "      <th>4</th>\n",
              "      <td>tt0110912</td>\n",
              "      <td>Pulp Fiction</td>\n",
              "      <td>1994-10-28</td>\n",
              "      <td>Crime, Drama</td>\n",
              "      <td>NaN</td>\n",
              "      <td>USA</td>\n",
              "      <td>R</td>\n",
              "      <td>Quentin Tarantino</td>\n",
              "      <td>NaN</td>\n",
              "      <td>$222,831,817</td>\n",
              "      <td>1.780.147</td>\n",
              "      <td>8,9f</td>\n",
              "    </tr>\n",
              "  </tbody>\n",
              "</table>\n",
              "</div>\n",
              "    <div class=\"colab-df-buttons\">\n",
              "\n",
              "  <div class=\"colab-df-container\">\n",
              "    <button class=\"colab-df-convert\" onclick=\"convertToInteractive('df-70e0fa33-1f03-410f-8587-45c67ad5c8fb')\"\n",
              "            title=\"Convert this dataframe to an interactive table.\"\n",
              "            style=\"display:none;\">\n",
              "\n",
              "  <svg xmlns=\"http://www.w3.org/2000/svg\" height=\"24px\" viewBox=\"0 -960 960 960\">\n",
              "    <path d=\"M120-120v-720h720v720H120Zm60-500h600v-160H180v160Zm220 220h160v-160H400v160Zm0 220h160v-160H400v160ZM180-400h160v-160H180v160Zm440 0h160v-160H620v160ZM180-180h160v-160H180v160Zm440 0h160v-160H620v160Z\"/>\n",
              "  </svg>\n",
              "    </button>\n",
              "\n",
              "  <style>\n",
              "    .colab-df-container {\n",
              "      display:flex;\n",
              "      gap: 12px;\n",
              "    }\n",
              "\n",
              "    .colab-df-convert {\n",
              "      background-color: #E8F0FE;\n",
              "      border: none;\n",
              "      border-radius: 50%;\n",
              "      cursor: pointer;\n",
              "      display: none;\n",
              "      fill: #1967D2;\n",
              "      height: 32px;\n",
              "      padding: 0 0 0 0;\n",
              "      width: 32px;\n",
              "    }\n",
              "\n",
              "    .colab-df-convert:hover {\n",
              "      background-color: #E2EBFA;\n",
              "      box-shadow: 0px 1px 2px rgba(60, 64, 67, 0.3), 0px 1px 3px 1px rgba(60, 64, 67, 0.15);\n",
              "      fill: #174EA6;\n",
              "    }\n",
              "\n",
              "    .colab-df-buttons div {\n",
              "      margin-bottom: 4px;\n",
              "    }\n",
              "\n",
              "    [theme=dark] .colab-df-convert {\n",
              "      background-color: #3B4455;\n",
              "      fill: #D2E3FC;\n",
              "    }\n",
              "\n",
              "    [theme=dark] .colab-df-convert:hover {\n",
              "      background-color: #434B5C;\n",
              "      box-shadow: 0px 1px 3px 1px rgba(0, 0, 0, 0.15);\n",
              "      filter: drop-shadow(0px 1px 2px rgba(0, 0, 0, 0.3));\n",
              "      fill: #FFFFFF;\n",
              "    }\n",
              "  </style>\n",
              "\n",
              "    <script>\n",
              "      const buttonEl =\n",
              "        document.querySelector('#df-70e0fa33-1f03-410f-8587-45c67ad5c8fb button.colab-df-convert');\n",
              "      buttonEl.style.display =\n",
              "        google.colab.kernel.accessAllowed ? 'block' : 'none';\n",
              "\n",
              "      async function convertToInteractive(key) {\n",
              "        const element = document.querySelector('#df-70e0fa33-1f03-410f-8587-45c67ad5c8fb');\n",
              "        const dataTable =\n",
              "          await google.colab.kernel.invokeFunction('convertToInteractive',\n",
              "                                                    [key], {});\n",
              "        if (!dataTable) return;\n",
              "\n",
              "        const docLinkHtml = 'Like what you see? Visit the ' +\n",
              "          '<a target=\"_blank\" href=https://colab.research.google.com/notebooks/data_table.ipynb>data table notebook</a>'\n",
              "          + ' to learn more about interactive tables.';\n",
              "        element.innerHTML = '';\n",
              "        dataTable['output_type'] = 'display_data';\n",
              "        await google.colab.output.renderOutput(dataTable, element);\n",
              "        const docLink = document.createElement('div');\n",
              "        docLink.innerHTML = docLinkHtml;\n",
              "        element.appendChild(docLink);\n",
              "      }\n",
              "    </script>\n",
              "  </div>\n",
              "\n",
              "\n",
              "    <div id=\"df-f3c72aa5-474e-4ac9-946e-5d902a97d8ea\">\n",
              "      <button class=\"colab-df-quickchart\" onclick=\"quickchart('df-f3c72aa5-474e-4ac9-946e-5d902a97d8ea')\"\n",
              "                title=\"Suggest charts\"\n",
              "                style=\"display:none;\">\n",
              "\n",
              "<svg xmlns=\"http://www.w3.org/2000/svg\" height=\"24px\"viewBox=\"0 0 24 24\"\n",
              "     width=\"24px\">\n",
              "    <g>\n",
              "        <path d=\"M19 3H5c-1.1 0-2 .9-2 2v14c0 1.1.9 2 2 2h14c1.1 0 2-.9 2-2V5c0-1.1-.9-2-2-2zM9 17H7v-7h2v7zm4 0h-2V7h2v10zm4 0h-2v-4h2v4z\"/>\n",
              "    </g>\n",
              "</svg>\n",
              "      </button>\n",
              "\n",
              "<style>\n",
              "  .colab-df-quickchart {\n",
              "      --bg-color: #E8F0FE;\n",
              "      --fill-color: #1967D2;\n",
              "      --hover-bg-color: #E2EBFA;\n",
              "      --hover-fill-color: #174EA6;\n",
              "      --disabled-fill-color: #AAA;\n",
              "      --disabled-bg-color: #DDD;\n",
              "  }\n",
              "\n",
              "  [theme=dark] .colab-df-quickchart {\n",
              "      --bg-color: #3B4455;\n",
              "      --fill-color: #D2E3FC;\n",
              "      --hover-bg-color: #434B5C;\n",
              "      --hover-fill-color: #FFFFFF;\n",
              "      --disabled-bg-color: #3B4455;\n",
              "      --disabled-fill-color: #666;\n",
              "  }\n",
              "\n",
              "  .colab-df-quickchart {\n",
              "    background-color: var(--bg-color);\n",
              "    border: none;\n",
              "    border-radius: 50%;\n",
              "    cursor: pointer;\n",
              "    display: none;\n",
              "    fill: var(--fill-color);\n",
              "    height: 32px;\n",
              "    padding: 0;\n",
              "    width: 32px;\n",
              "  }\n",
              "\n",
              "  .colab-df-quickchart:hover {\n",
              "    background-color: var(--hover-bg-color);\n",
              "    box-shadow: 0 1px 2px rgba(60, 64, 67, 0.3), 0 1px 3px 1px rgba(60, 64, 67, 0.15);\n",
              "    fill: var(--button-hover-fill-color);\n",
              "  }\n",
              "\n",
              "  .colab-df-quickchart-complete:disabled,\n",
              "  .colab-df-quickchart-complete:disabled:hover {\n",
              "    background-color: var(--disabled-bg-color);\n",
              "    fill: var(--disabled-fill-color);\n",
              "    box-shadow: none;\n",
              "  }\n",
              "\n",
              "  .colab-df-spinner {\n",
              "    border: 2px solid var(--fill-color);\n",
              "    border-color: transparent;\n",
              "    border-bottom-color: var(--fill-color);\n",
              "    animation:\n",
              "      spin 1s steps(1) infinite;\n",
              "  }\n",
              "\n",
              "  @keyframes spin {\n",
              "    0% {\n",
              "      border-color: transparent;\n",
              "      border-bottom-color: var(--fill-color);\n",
              "      border-left-color: var(--fill-color);\n",
              "    }\n",
              "    20% {\n",
              "      border-color: transparent;\n",
              "      border-left-color: var(--fill-color);\n",
              "      border-top-color: var(--fill-color);\n",
              "    }\n",
              "    30% {\n",
              "      border-color: transparent;\n",
              "      border-left-color: var(--fill-color);\n",
              "      border-top-color: var(--fill-color);\n",
              "      border-right-color: var(--fill-color);\n",
              "    }\n",
              "    40% {\n",
              "      border-color: transparent;\n",
              "      border-right-color: var(--fill-color);\n",
              "      border-top-color: var(--fill-color);\n",
              "    }\n",
              "    60% {\n",
              "      border-color: transparent;\n",
              "      border-right-color: var(--fill-color);\n",
              "    }\n",
              "    80% {\n",
              "      border-color: transparent;\n",
              "      border-right-color: var(--fill-color);\n",
              "      border-bottom-color: var(--fill-color);\n",
              "    }\n",
              "    90% {\n",
              "      border-color: transparent;\n",
              "      border-bottom-color: var(--fill-color);\n",
              "    }\n",
              "  }\n",
              "</style>\n",
              "\n",
              "      <script>\n",
              "        async function quickchart(key) {\n",
              "          const quickchartButtonEl =\n",
              "            document.querySelector('#' + key + ' button');\n",
              "          quickchartButtonEl.disabled = true;  // To prevent multiple clicks.\n",
              "          quickchartButtonEl.classList.add('colab-df-spinner');\n",
              "          try {\n",
              "            const charts = await google.colab.kernel.invokeFunction(\n",
              "                'suggestCharts', [key], {});\n",
              "          } catch (error) {\n",
              "            console.error('Error during call to suggestCharts:', error);\n",
              "          }\n",
              "          quickchartButtonEl.classList.remove('colab-df-spinner');\n",
              "          quickchartButtonEl.classList.add('colab-df-quickchart-complete');\n",
              "        }\n",
              "        (() => {\n",
              "          let quickchartButtonEl =\n",
              "            document.querySelector('#df-f3c72aa5-474e-4ac9-946e-5d902a97d8ea button');\n",
              "          quickchartButtonEl.style.display =\n",
              "            google.colab.kernel.accessAllowed ? 'block' : 'none';\n",
              "        })();\n",
              "      </script>\n",
              "    </div>\n",
              "\n",
              "    </div>\n",
              "  </div>\n"
            ],
            "application/vnd.google.colaboratory.intrinsic+json": {
              "type": "dataframe",
              "variable_name": "df",
              "summary": "{\n  \"name\": \"df\",\n  \"rows\": 101,\n  \"fields\": [\n    {\n      \"column\": \"IMBD title ID\",\n      \"properties\": {\n        \"dtype\": \"string\",\n        \"num_unique_values\": 100,\n        \"samples\": [\n          \"tt0075314\",\n          \"tt0081505\",\n          \"tt0361748\"\n        ],\n        \"semantic_type\": \"\",\n        \"description\": \"\"\n      }\n    },\n    {\n      \"column\": \"Original titl\\ufffd\",\n      \"properties\": {\n        \"dtype\": \"string\",\n        \"num_unique_values\": 100,\n        \"samples\": [\n          \"Taxi Driver\",\n          \"The Shining\",\n          \"Inglourious Basterds\"\n        ],\n        \"semantic_type\": \"\",\n        \"description\": \"\"\n      }\n    },\n    {\n      \"column\": \"Release year\",\n      \"properties\": {\n        \"dtype\": \"string\",\n        \"num_unique_values\": 99,\n        \"samples\": [\n          \"2017-12-28\",\n          \"2012-02-24\",\n          \"1982-03-18\"\n        ],\n        \"semantic_type\": \"\",\n        \"description\": \"\"\n      }\n    },\n    {\n      \"column\": \"Genr\\ufffd\",\n      \"properties\": {\n        \"dtype\": \"string\",\n        \"num_unique_values\": 59,\n        \"samples\": [\n          \"Drama\",\n          \"Action, Adventure, Sci-Fi\",\n          \"Drama, Horror\"\n        ],\n        \"semantic_type\": \"\",\n        \"description\": \"\"\n      }\n    },\n    {\n      \"column\": \"Duration\",\n      \"properties\": {\n        \"dtype\": \"string\",\n        \"num_unique_values\": 70,\n        \"samples\": [\n          \"116\",\n          \"142\",\n          \"95\"\n        ],\n        \"semantic_type\": \"\",\n        \"description\": \"\"\n      }\n    },\n    {\n      \"column\": \"Country\",\n      \"properties\": {\n        \"dtype\": \"category\",\n        \"num_unique_values\": 18,\n        \"samples\": [\n          \"USA\",\n          \"US\",\n          \"Brazil\"\n        ],\n        \"semantic_type\": \"\",\n        \"description\": \"\"\n      }\n    },\n    {\n      \"column\": \"Content Rating\",\n      \"properties\": {\n        \"dtype\": \"category\",\n        \"num_unique_values\": 7,\n        \"samples\": [\n          \"R\",\n          \"PG-13\",\n          \"Unrated\"\n        ],\n        \"semantic_type\": \"\",\n        \"description\": \"\"\n      }\n    },\n    {\n      \"column\": \"Director\",\n      \"properties\": {\n        \"dtype\": \"string\",\n        \"num_unique_values\": 64,\n        \"samples\": [\n          \"Guy Ritchie\",\n          \"Thomas Vinterberg\",\n          \"Frank Darabont\"\n        ],\n        \"semantic_type\": \"\",\n        \"description\": \"\"\n      }\n    },\n    {\n      \"column\": \"Unnamed: 8\",\n      \"properties\": {\n        \"dtype\": \"number\",\n        \"std\": null,\n        \"min\": null,\n        \"max\": null,\n        \"num_unique_values\": 0,\n        \"samples\": [],\n        \"semantic_type\": \"\",\n        \"description\": \"\"\n      }\n    },\n    {\n      \"column\": \"Income\",\n      \"properties\": {\n        \"dtype\": \"string\",\n        \"num_unique_values\": 100,\n        \"samples\": [],\n        \"semantic_type\": \"\",\n        \"description\": \"\"\n      }\n    },\n    {\n      \"column\": \"Votes\",\n      \"properties\": {\n        \"dtype\": \"string\",\n        \"num_unique_values\": 100,\n        \"samples\": [],\n        \"semantic_type\": \"\",\n        \"description\": \"\"\n      }\n    },\n    {\n      \"column\": \"Score\",\n      \"properties\": {\n        \"dtype\": \"category\",\n        \"num_unique_values\": 27,\n        \"samples\": [],\n        \"semantic_type\": \"\",\n        \"description\": \"\"\n      }\n    }\n  ]\n}"
            }
          },
          "metadata": {},
          "execution_count": 41
        }
      ]
    },
    {
      "cell_type": "markdown",
      "source": [
        "data info/ shape/ describe"
      ],
      "metadata": {
        "id": "jc0zVSQv_85D"
      }
    },
    {
      "cell_type": "code",
      "source": [
        "print(df.info)\n",
        "print(df.describe)\n",
        "print(df.shape)"
      ],
      "metadata": {
        "colab": {
          "base_uri": "https://localhost:8080/"
        },
        "id": "qy-Gqz0B7yVB",
        "outputId": "86bd8117-0a33-443e-dc61-6d39fe9d7201"
      },
      "execution_count": 42,
      "outputs": [
        {
          "output_type": "stream",
          "name": "stdout",
          "text": [
            "<bound method DataFrame.info of     IMBD title ID              Original titl� Release year  \\\n",
            "0       tt0111161    The Shawshank Redemption   1995-02-10   \n",
            "1       tt0068646               The Godfather   09 21 1972   \n",
            "2       tt0468569             The Dark Knight  23 -07-2008   \n",
            "3       tt0071562      The Godfather: Part II   1975-09-25   \n",
            "4       tt0110912                Pulp Fiction   1994-10-28   \n",
            "..            ...                         ...          ...   \n",
            "96      tt0070735                   The Sting   1974-03-21   \n",
            "97      tt0082096                    Das Boot   1982-03-18   \n",
            "98      tt0059578  Per qualche dollaro in più   1965-12-20   \n",
            "99      tt1832382     Jodaeiye Nader az Simin   2011-10-21   \n",
            "100     tt0045152         Singin' in the Rain   1953-02-05   \n",
            "\n",
            "                          Genr� Duration       Country Content Rating  \\\n",
            "0                         Drama      142           USA              R   \n",
            "1                  Crime, Drama      175           USA              R   \n",
            "2          Action, Crime, Drama      152            US          PG-13   \n",
            "3                  Crime, Drama      220           USA              R   \n",
            "4                  Crime, Drama      NaN           USA              R   \n",
            "..                          ...      ...           ...            ...   \n",
            "96         Comedy, Crime, Drama      129           USA             PG   \n",
            "97   Adventure, Drama, Thriller      149  West Germany              R   \n",
            "98                      Western      132         Italy            NaN   \n",
            "99                        Drama      123          Iran          PG-13   \n",
            "100    Comedy, Musical, Romance      103           USA            NaN   \n",
            "\n",
            "                 Director  Unnamed: 8          Income      Votes Score  \n",
            "0          Frank Darabont         NaN     $28,815,245  2.278.845   9.3  \n",
            "1    Francis Ford Coppola         NaN    $246,120,974  1.572.674   9.2  \n",
            "2       Christopher Nolan         NaN  $1,005,455,211  2.241.615     9  \n",
            "3    Francis Ford Coppola         NaN   $ 4o8,035,783  1.098.714  9,.0  \n",
            "4       Quentin Tarantino         NaN    $222,831,817  1.780.147  8,9f  \n",
            "..                    ...         ...             ...        ...   ...  \n",
            "96        George Roy Hill         NaN    $156,000,000    236.285   7.5  \n",
            "97      Wolfgang Petersen         NaN     $11,487,676    226.427   7.5  \n",
            "98           Sergio Leone         NaN     $15,000,000    226.039   7.4  \n",
            "99         Asghar Farhadi         NaN     $22,926,076    214.165   7.4  \n",
            "100         Stanley Donen         NaN      $1,864,182    213.152   7.4  \n",
            "\n",
            "[101 rows x 12 columns]>\n",
            "<bound method NDFrame.describe of     IMBD title ID              Original titl� Release year  \\\n",
            "0       tt0111161    The Shawshank Redemption   1995-02-10   \n",
            "1       tt0068646               The Godfather   09 21 1972   \n",
            "2       tt0468569             The Dark Knight  23 -07-2008   \n",
            "3       tt0071562      The Godfather: Part II   1975-09-25   \n",
            "4       tt0110912                Pulp Fiction   1994-10-28   \n",
            "..            ...                         ...          ...   \n",
            "96      tt0070735                   The Sting   1974-03-21   \n",
            "97      tt0082096                    Das Boot   1982-03-18   \n",
            "98      tt0059578  Per qualche dollaro in più   1965-12-20   \n",
            "99      tt1832382     Jodaeiye Nader az Simin   2011-10-21   \n",
            "100     tt0045152         Singin' in the Rain   1953-02-05   \n",
            "\n",
            "                          Genr� Duration       Country Content Rating  \\\n",
            "0                         Drama      142           USA              R   \n",
            "1                  Crime, Drama      175           USA              R   \n",
            "2          Action, Crime, Drama      152            US          PG-13   \n",
            "3                  Crime, Drama      220           USA              R   \n",
            "4                  Crime, Drama      NaN           USA              R   \n",
            "..                          ...      ...           ...            ...   \n",
            "96         Comedy, Crime, Drama      129           USA             PG   \n",
            "97   Adventure, Drama, Thriller      149  West Germany              R   \n",
            "98                      Western      132         Italy            NaN   \n",
            "99                        Drama      123          Iran          PG-13   \n",
            "100    Comedy, Musical, Romance      103           USA            NaN   \n",
            "\n",
            "                 Director  Unnamed: 8          Income      Votes Score  \n",
            "0          Frank Darabont         NaN     $28,815,245  2.278.845   9.3  \n",
            "1    Francis Ford Coppola         NaN    $246,120,974  1.572.674   9.2  \n",
            "2       Christopher Nolan         NaN  $1,005,455,211  2.241.615     9  \n",
            "3    Francis Ford Coppola         NaN   $ 4o8,035,783  1.098.714  9,.0  \n",
            "4       Quentin Tarantino         NaN    $222,831,817  1.780.147  8,9f  \n",
            "..                    ...         ...             ...        ...   ...  \n",
            "96        George Roy Hill         NaN    $156,000,000    236.285   7.5  \n",
            "97      Wolfgang Petersen         NaN     $11,487,676    226.427   7.5  \n",
            "98           Sergio Leone         NaN     $15,000,000    226.039   7.4  \n",
            "99         Asghar Farhadi         NaN     $22,926,076    214.165   7.4  \n",
            "100         Stanley Donen         NaN      $1,864,182    213.152   7.4  \n",
            "\n",
            "[101 rows x 12 columns]>\n",
            "(101, 12)\n"
          ]
        }
      ]
    },
    {
      "cell_type": "markdown",
      "source": [
        "train linear regression model"
      ],
      "metadata": {
        "id": "Alb8EQdeADEi"
      }
    },
    {
      "cell_type": "code",
      "source": [
        "iris = load_iris()\n",
        "df = pd.DataFrame(iris.data, columns=iris.feature_names)\n",
        "\n",
        "# Feature (X) and target (y)\n",
        "X = df[['sepal length (cm)']]   # independent variable\n",
        "y = df['sepal width (cm)']      # dependent variable\n",
        "\n",
        "# Create and train model\n",
        "model = LinearRegression()\n",
        "model.fit(X, y)\n",
        "\n",
        "# Print coefficients and intercept\n",
        "print(\"Coefficient:\", model.coef_)\n",
        "print(\"Intercept:\", model.intercept_)\n"
      ],
      "metadata": {
        "colab": {
          "base_uri": "https://localhost:8080/"
        },
        "id": "IiNZTCqj79sx",
        "outputId": "4a866152-6ac4-4762-d1d2-abd3269cf900"
      },
      "execution_count": 44,
      "outputs": [
        {
          "output_type": "stream",
          "name": "stdout",
          "text": [
            "Coefficient: [-0.0618848]\n",
            "Intercept: 3.418946836103816\n"
          ]
        }
      ]
    },
    {
      "cell_type": "markdown",
      "source": [
        "min/max Scaling"
      ],
      "metadata": {
        "id": "Dz4LRm8KAItF"
      }
    },
    {
      "cell_type": "code",
      "source": [
        "\n",
        "# Choose one column\n",
        "col = df[['sepal length (cm)']]\n",
        "\n",
        "# Apply Min-Max Scaling\n",
        "scaler = MinMaxScaler()\n",
        "scaled = scaler.fit_transform(col)\n",
        "\n",
        "# Print first 10 transformed values\n",
        "print(scaled[:10])"
      ],
      "metadata": {
        "colab": {
          "base_uri": "https://localhost:8080/"
        },
        "id": "LPj_nbZK9n2d",
        "outputId": "d7a1f167-0fbf-4e7d-c9d8-5535b936f784"
      },
      "execution_count": 47,
      "outputs": [
        {
          "output_type": "stream",
          "name": "stdout",
          "text": [
            "[[0.22222222]\n",
            " [0.16666667]\n",
            " [0.11111111]\n",
            " [0.08333333]\n",
            " [0.19444444]\n",
            " [0.30555556]\n",
            " [0.08333333]\n",
            " [0.19444444]\n",
            " [0.02777778]\n",
            " [0.16666667]]\n"
          ]
        }
      ]
    },
    {
      "cell_type": "code",
      "source": [
        "# Load iris again\n",
        "iris = load_iris()\n",
        "df = pd.DataFrame(iris.data, columns=iris.feature_names)\n",
        "\n",
        "# Add categorical target\n",
        "df['species'] = [iris.target_names[i] for i in iris.target]\n",
        "\n",
        "# Group by species and calculate mean sepal length\n",
        "grouped = df.groupby('species')['sepal length (cm)'].mean()\n",
        "print(grouped)"
      ],
      "metadata": {
        "colab": {
          "base_uri": "https://localhost:8080/"
        },
        "id": "mh4oRoiF-Lfj",
        "outputId": "ba99959c-5b3a-4c4b-892a-19ba0472f677"
      },
      "execution_count": 48,
      "outputs": [
        {
          "output_type": "stream",
          "name": "stdout",
          "text": [
            "species\n",
            "setosa        5.006\n",
            "versicolor    5.936\n",
            "virginica     6.588\n",
            "Name: sepal length (cm), dtype: float64\n"
          ]
        }
      ]
    },
    {
      "cell_type": "markdown",
      "source": [
        "Scatter plot"
      ],
      "metadata": {
        "id": "5XBlV_hSARCO"
      }
    },
    {
      "cell_type": "code",
      "source": [
        "# Scatterplot with species coloring\n",
        "sns.scatterplot(x='sepal length (cm)',\n",
        "                y='sepal width (cm)',\n",
        "                hue='species',\n",
        "                data=df)\n",
        "\n",
        "plt.title(\"Sepal Length vs Sepal Width\")\n",
        "plt.show()\n"
      ],
      "metadata": {
        "colab": {
          "base_uri": "https://localhost:8080/",
          "height": 472
        },
        "id": "J9vzt9oe-Uza",
        "outputId": "6b47ebd0-ff01-4c96-bb8b-af0d639a70c8"
      },
      "execution_count": 50,
      "outputs": [
        {
          "output_type": "display_data",
          "data": {
            "text/plain": [
              "<Figure size 640x480 with 1 Axes>"
            ],
            "image/png": "[encoded data removed]"
          },
          "metadata": {}
        }
      ]
    },
    {
      "cell_type": "markdown",
      "source": [
        "Correlation heatmap"
      ],
      "metadata": {
        "id": "Jk7Odyl5AVoq"
      }
    },
    {
      "cell_type": "code",
      "source": [
        "# Correlation matrix\n",
        "corr = df.corr(numeric_only=True)\n",
        "\n",
        "# Heatmap\n",
        "plt.figure(figsize=(8,6))\n",
        "sns.heatmap(corr, annot=True, cmap='coolwarm', fmt=\".2f\")\n",
        "plt.title(\"Correlation Heatmap\")\n",
        "plt.show()\n"
      ],
      "metadata": {
        "colab": {
          "base_uri": "https://localhost:8080/",
          "height": 545
        },
        "id": "IzLu6fLm-k54",
        "outputId": "3f78978f-ecc7-4a64-eecb-2ff1bd3a1de2"
      },
      "execution_count": 51,
      "outputs": [
        {
          "output_type": "display_data",
          "data": {
            "text/plain": [
              "<Figure size 800x600 with 2 Axes>"
            ],
            "image/png": "[encoded data removed]"
          },
          "metadata": {}
        }
      ]
    },
    {
      "cell_type": "markdown",
      "source": [
        "check missing values and fill with mean and save as cleaned CSV"
      ],
      "metadata": {
        "id": "bf6X_NR3Abzs"
      }
    },
    {
      "cell_type": "code",
      "source": [
        "# Check missing values\n",
        "print(df.isnull().sum())\n",
        "\n",
        "# Fill missing values with column mean (if any)\n",
        "df_cleaned = df.fillna(df.mean(numeric_only=True))\n",
        "\n",
        "# Save to CSV\n",
        "df_cleaned.to_csv(\"iris_cleaned.csv\", index=False)\n",
        "print(\"Cleaned dataset saved as iris_cleaned.csv\")\n"
      ],
      "metadata": {
        "colab": {
          "base_uri": "https://localhost:8080/"
        },
        "id": "2NE5tYXw-wa5",
        "outputId": "1aa8ebdb-d8f7-4fd6-f0b6-8b83ea360a2e"
      },
      "execution_count": 52,
      "outputs": [
        {
          "output_type": "stream",
          "name": "stdout",
          "text": [
            "sepal length (cm)    0\n",
            "sepal width (cm)     0\n",
            "petal length (cm)    0\n",
            "petal width (cm)     0\n",
            "species              0\n",
            "dtype: int64\n",
            "Cleaned dataset saved as iris_cleaned.csv\n"
          ]
        }
      ]
    },
    {
      "cell_type": "code",
      "source": [],
      "metadata": {
        "id": "15eoUQo_-5bY"
      },
      "execution_count": null,
      "outputs": []
    }
  ]
}
