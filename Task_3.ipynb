{
  "nbformat": 4,
  "nbformat_minor": 0,
  "metadata": {
    "colab": {
      "provenance": [],
      "authorship_tag": "ABX9TyM7tfqJBYijZBPx7+HaEnL4",
      "include_colab_link": true
    },
    "kernelspec": {
      "name": "python3",
      "display_name": "Python 3"
    },
    "language_info": {
      "name": "python"
    }
  },
  "cells": [
    {
      "cell_type": "markdown",
      "metadata": {
        "id": "view-in-github",
        "colab_type": "text"
      },
      "source": [
        "<a href=\"https://colab.research.google.com/github/mohsina680/BuildablesDataScienceFellowship/blob/main/Task_3.ipynb\" target=\"_parent\"><img src=\"https://colab.research.google.com/assets/colab-badge.svg\" alt=\"Open In Colab\"/></a>"
      ]
    },
    {
      "cell_type": "markdown",
      "source": [
        "Task 1: Recursive Factorial"
      ],
      "metadata": {
        "id": "nzTXvSM2XlMK"
      }
    },
    {
      "cell_type": "code",
      "execution_count": null,
      "metadata": {
        "colab": {
          "base_uri": "https://localhost:8080/"
        },
        "id": "HiTvKjcnXQiq",
        "outputId": "7305ea9f-0510-4208-ed96-4f03c952b381"
      },
      "outputs": [
        {
          "output_type": "stream",
          "name": "stdout",
          "text": [
            "The factorial of 5 is 120\n"
          ]
        }
      ],
      "source": [
        "# Recursive function for factorial\n",
        "def factorial(n):\n",
        "    if n == 0 or n == 1:   # Base case\n",
        "        return 1\n",
        "    else:\n",
        "        return n * factorial(n - 1)   # Recursive call\n",
        "\n",
        "# Example\n",
        "num = 5\n",
        "print(\"The factorial of\", num, \"is\", factorial(num))\n"
      ]
    },
    {
      "cell_type": "markdown",
      "source": [
        "Task 2: Palindrome Linked List"
      ],
      "metadata": {
        "id": "AyNcaI5cXu9Q"
      }
    },
    {
      "cell_type": "code",
      "source": [
        "# Instead of a Node class, we just use a Python list\n",
        "def is_palindrome_linked_list(values):\n",
        "    return values == values[::-1]\n",
        "\n",
        "#like\n",
        "linked_list1 = [1, 2, 3, 2, 1]\n",
        "linked_list2 = [1, 2, 3, 4, 5]\n",
        "\n",
        "if is_palindrome_linked_list(linked_list1):\n",
        "    print(\"The linked list is a palindrome.\")\n",
        "else:\n",
        "    print(\"The linked list is not a palindrome.\")\n",
        "\n",
        "if is_palindrome_linked_list(linked_list2):\n",
        "    print(\"The linked list is a palindrome.\")\n",
        "else:\n",
        "    print(\"The linked list is not a palindrome.\")\n"
      ],
      "metadata": {
        "colab": {
          "base_uri": "https://localhost:8080/"
        },
        "id": "0gJ3cdcfX7ks",
        "outputId": "7e281d18-c1ab-42cc-9f0a-83b0c3950b20"
      },
      "execution_count": null,
      "outputs": [
        {
          "output_type": "stream",
          "name": "stdout",
          "text": [
            "The linked list is a palindrome.\n",
            "The linked list is not a palindrome.\n"
          ]
        }
      ]
    },
    {
      "cell_type": "markdown",
      "source": [
        "Task 03:  Merge Sorted Arrays"
      ],
      "metadata": {
        "id": "iXCEQ8dpYVYI"
      }
    },
    {
      "cell_type": "code",
      "source": [
        "# Function to merge two sorted arrays\n",
        "def merge_sorted(arr1, arr2):\n",
        "    return sorted(arr1 + arr2)   # join and sort\n",
        "\n",
        "#like\n",
        "arr1 = [1, 3, 5]\n",
        "arr2 = [2, 4, 6]\n",
        "print(\"Merged Array:\", merge_sorted(arr1, arr2))\n"
      ],
      "metadata": {
        "colab": {
          "base_uri": "https://localhost:8080/"
        },
        "id": "u_XrMCzCYhjd",
        "outputId": "bf587d62-f701-43ca-8cdc-7b664c5885d0"
      },
      "execution_count": null,
      "outputs": [
        {
          "output_type": "stream",
          "name": "stdout",
          "text": [
            "Merged Array: [1, 2, 3, 4, 5, 6]\n"
          ]
        }
      ]
    },
    {
      "cell_type": "markdown",
      "source": [
        "\n",
        "Task 4: Binary Search Tree"
      ],
      "metadata": {
        "id": "kEnN9hhEddSl"
      }
    },
    {
      "cell_type": "code",
      "source": [
        "# Create a new node\n",
        "def create_node(key):\n",
        "    return {\"key\": key, \"left\": None, \"right\": None}\n",
        "\n",
        "# Insert a key\n",
        "def insert(root, key):\n",
        "    if root is None:\n",
        "        return create_node(key)\n",
        "    if key < root[\"key\"]:\n",
        "        root[\"left\"] = insert(root[\"left\"], key)\n",
        "    else:\n",
        "        root[\"right\"] = insert(root[\"right\"], key)\n",
        "    return root\n",
        "\n",
        "# Search\n",
        "def search(root, key):\n",
        "    if root is None:\n",
        "        return None\n",
        "    if root[\"key\"] == key:\n",
        "        return root\n",
        "    if key < root[\"key\"]:\n",
        "        return search(root[\"left\"], key)\n",
        "    else:\n",
        "        return search(root[\"right\"], key)\n",
        "\n",
        "# Inorder Traversal\n",
        "def inorder(root):\n",
        "    if root:\n",
        "        inorder(root[\"left\"])\n",
        "        print(root[\"key\"], end=\" \")\n",
        "        inorder(root[\"right\"])\n",
        "\n",
        "# Example\n",
        "root = None\n",
        "for num in [50, 30, 70, 20, 40, 60, 80]:\n",
        "    root = insert(root, num)\n",
        "\n",
        "print(\"Inorder Traversal of BST:\")\n",
        "inorder(root)\n",
        "print(\"\\nSearch 60:\", \"Found\" if search(root, 60) else \"Not Found\")\n"
      ],
      "metadata": {
        "colab": {
          "base_uri": "https://localhost:8080/"
        },
        "id": "vgnVVH8RYlGy",
        "outputId": "4c1d0a58-4769-4806-82c3-289dafb3ffa3"
      },
      "execution_count": null,
      "outputs": [
        {
          "output_type": "stream",
          "name": "stdout",
          "text": [
            "Inorder Traversal of BST:\n",
            "20 30 40 50 60 70 80 \n",
            "Search 60: Found\n"
          ]
        }
      ]
    },
    {
      "cell_type": "markdown",
      "source": [
        "Task 5: Longest Palindromic Substring"
      ],
      "metadata": {
        "id": "4C77CQsrdiJe"
      }
    },
    {
      "cell_type": "code",
      "source": [
        "# Function to find longest palindrome substring\n",
        "def longest_palindrome(s):\n",
        "    longest = \"\"\n",
        "    for i in range(len(s)):\n",
        "        for j in range(i, len(s)):\n",
        "            part = s[i:j+1]\n",
        "            if part == part[::-1] and len(part) > len(longest):\n",
        "                longest = part\n",
        "    return longest\n",
        "\n",
        "print(\"Longest Palindrome:\", longest_palindrome(\"babad\"))\n",
        "print(\"Longest Palindrome:\", longest_palindrome(\"cbbd\"))\n"
      ],
      "metadata": {
        "colab": {
          "base_uri": "https://localhost:8080/"
        },
        "id": "VveljJMbZArB",
        "outputId": "a7e21564-2499-4ed5-d7cc-ac242f020d56"
      },
      "execution_count": null,
      "outputs": [
        {
          "output_type": "stream",
          "name": "stdout",
          "text": [
            "Longest Palindrome: bab\n",
            "Longest Palindrome: bb\n"
          ]
        }
      ]
    },
    {
      "cell_type": "markdown",
      "source": [
        "Task 6: Merge Intervals"
      ],
      "metadata": {
        "id": "G79rCw14dl5I"
      }
    },
    {
      "cell_type": "code",
      "source": [
        "def merge_intervals(intervals):\n",
        "    intervals.sort(key=lambda x: x[0])   # sort by start\n",
        "    merged = [intervals[0]]\n",
        "\n",
        "    for current in intervals[1:]:\n",
        "        last = merged[-1]\n",
        "        if current[0] <= last[1]:\n",
        "            merged[-1] = (last[0], max(last[1], current[1]))   # merge\n",
        "        else:\n",
        "            merged.append(current)\n",
        "    return merged\n",
        "\n",
        "print(\"Merged Intervals:\", merge_intervals([(1,3), (2,6), (8,10), (15,18)]))\n"
      ],
      "metadata": {
        "colab": {
          "base_uri": "https://localhost:8080/"
        },
        "id": "LSHFuY1XZGHB",
        "outputId": "39001d76-6c78-4b53-f1ed-932d3c11a02a"
      },
      "execution_count": null,
      "outputs": [
        {
          "output_type": "stream",
          "name": "stdout",
          "text": [
            "Merged Intervals: [(1, 6), (8, 10), (15, 18)]\n"
          ]
        }
      ]
    },
    {
      "cell_type": "markdown",
      "source": [
        "\n",
        "Task 7: Maximum Subarray\n"
      ],
      "metadata": {
        "id": "s5Nm4w37dqGb"
      }
    },
    {
      "cell_type": "code",
      "source": [
        "def max_subarray(nums):\n",
        "    current_sum = max_sum = nums[0]\n",
        "    for num in nums[1:]:\n",
        "        current_sum = max(num, current_sum + num)\n",
        "        max_sum = max(max_sum, current_sum)\n",
        "    return max_sum\n",
        "\n",
        "arr = [-2,1,-3,4,-1,2,1,-5,4]\n",
        "print(\"Maximum Subarray Sum:\", max_subarray(arr))\n"
      ],
      "metadata": {
        "colab": {
          "base_uri": "https://localhost:8080/"
        },
        "id": "PA5mamA9ZPfb",
        "outputId": "7b9e1371-5ef2-4504-c079-8da42f52fcd5"
      },
      "execution_count": null,
      "outputs": [
        {
          "output_type": "stream",
          "name": "stdout",
          "text": [
            "Maximum Subarray Sum: 6\n"
          ]
        }
      ]
    },
    {
      "cell_type": "markdown",
      "source": [
        "Task 8: Reverse Linked List"
      ],
      "metadata": {
        "id": "iMg2YFOPdt1H"
      }
    },
    {
      "cell_type": "code",
      "source": [
        "def reverse_linked_list(values):\n",
        "    return values[::-1]   # just reverse list\n",
        "\n",
        "# Example\n",
        "linked_list = [1, 2, 3, 4, 5]\n",
        "print(\"Original Linked List:\", linked_list)\n",
        "print(\"Reversed Linked List:\", reverse_linked_list(linked_list))\n"
      ],
      "metadata": {
        "colab": {
          "base_uri": "https://localhost:8080/"
        },
        "id": "HqtjZ2h-ZUUA",
        "outputId": "2b90fa6b-981c-4bb1-b145-22f97a6deb69"
      },
      "execution_count": null,
      "outputs": [
        {
          "output_type": "stream",
          "name": "stdout",
          "text": [
            "Original Linked List: [1, 2, 3, 4, 5]\n",
            "Reversed Linked List: [5, 4, 3, 2, 1]\n"
          ]
        }
      ]
    },
    {
      "cell_type": "markdown",
      "source": [
        "\n",
        "Task 9: Minimum Edit Distance"
      ],
      "metadata": {
        "id": "aRqUSu-gdxFR"
      }
    },
    {
      "cell_type": "code",
      "source": [
        "def min_edit_distance(s1, s2):\n",
        "    m, n = len(s1), len(s2)\n",
        "    dp = [[0]*(n+1) for _ in range(m+1)]\n",
        "\n",
        "    for i in range(m+1):\n",
        "        for j in range(n+1):\n",
        "            if i == 0:\n",
        "                dp[i][j] = j\n",
        "            elif j == 0:\n",
        "                dp[i][j] = i\n",
        "            elif s1[i-1] == s2[j-1]:\n",
        "                dp[i][j] = dp[i-1][j-1]\n",
        "            else:\n",
        "                dp[i][j] = 1 + min(dp[i-1][j], dp[i][j-1], dp[i-1][j-1])\n",
        "    return dp[m][n]\n",
        "\n",
        "print(\"Minimum Edit Distance:\", min_edit_distance(\"kitten\", \"sitting\"))\n"
      ],
      "metadata": {
        "colab": {
          "base_uri": "https://localhost:8080/"
        },
        "id": "7Za54GpeZgPv",
        "outputId": "363a5fc8-0de0-49db-c699-a93959a93b07"
      },
      "execution_count": null,
      "outputs": [
        {
          "output_type": "stream",
          "name": "stdout",
          "text": [
            "Minimum Edit Distance: 3\n"
          ]
        }
      ]
    },
    {
      "cell_type": "markdown",
      "source": [
        "Task 10: Boggle Game"
      ],
      "metadata": {
        "id": "4vDxCqhmd0rJ"
      }
    },
    {
      "cell_type": "code",
      "source": [
        "def exist(board, word):\n",
        "    rows, cols = len(board), len(board[0])\n",
        "    visited = set()\n",
        "\n",
        "    def dfs(r, c, i):\n",
        "        if i == len(word):\n",
        "            return True\n",
        "        if (r < 0 or c < 0 or r >= rows or c >= cols or\n",
        "            word[i] != board[r][c] or (r,c) in visited):\n",
        "            return False\n",
        "\n",
        "        visited.add((r,c))\n",
        "        result = (dfs(r+1, c, i+1) or dfs(r-1, c, i+1) or\n",
        "                  dfs(r, c+1, i+1) or dfs(r, c-1, i+1))\n",
        "        visited.remove((r,c))\n",
        "        return result\n",
        "\n",
        "    for r in range(rows):\n",
        "        for c in range(cols):\n",
        "            if dfs(r, c, 0):\n",
        "                return True\n",
        "    return False\n",
        "\n",
        "# Example\n",
        "board = [\n",
        "  [\"B\",\"O\",\"G\",\"G\"],\n",
        "  [\"X\",\"L\",\"E\",\"A\"],\n",
        "  [\"R\",\"A\",\"M\",\"E\"],\n",
        "  [\"S\",\"O\",\"D\",\"E\"]\n",
        "]\n",
        "\n",
        "words = [\"BOGGLE\", \"GAME\", \"RAM\", \"CODE\"]\n",
        "\n",
        "print(\"Words found:\")\n",
        "for w in words:\n",
        "    if exist(board, w):\n",
        "        print(w)\n"
      ],
      "metadata": {
        "colab": {
          "base_uri": "https://localhost:8080/"
        },
        "id": "kAKb9gZKZlkP",
        "outputId": "cf5a0ff3-cfdd-4f97-8592-d119570c5c2c"
      },
      "execution_count": null,
      "outputs": [
        {
          "output_type": "stream",
          "name": "stdout",
          "text": [
            "Words found:\n",
            "RAM\n"
          ]
        }
      ]
    },
    {
      "cell_type": "markdown",
      "source": [
        "Task 11: Fibonacci Generator"
      ],
      "metadata": {
        "id": "SeiCP6zPd4dT"
      }
    },
    {
      "cell_type": "code",
      "source": [
        "def fibonacci(n):\n",
        "    a, b = 0, 1\n",
        "    for _ in range(n):\n",
        "        yield a\n",
        "        a, b = b, a+b\n",
        "\n",
        "# Example\n",
        "for num in fibonacci(10):\n",
        "    print(num)\n"
      ],
      "metadata": {
        "colab": {
          "base_uri": "https://localhost:8080/"
        },
        "id": "qonEiypgZp9P",
        "outputId": "5765dac9-c977-41f6-bf5b-4e727c7043f3"
      },
      "execution_count": null,
      "outputs": [
        {
          "output_type": "stream",
          "name": "stdout",
          "text": [
            "0\n",
            "1\n",
            "1\n",
            "2\n",
            "3\n",
            "5\n",
            "8\n",
            "13\n",
            "21\n",
            "34\n"
          ]
        }
      ]
    },
    {
      "cell_type": "code",
      "source": [],
      "metadata": {
        "id": "vjM6deZQZuWf"
      },
      "execution_count": null,
      "outputs": []
    }
  ]
}